{
 "cells": [
  {
   "cell_type": "code",
   "execution_count": 124,
   "metadata": {},
   "outputs": [],
   "source": [
    "#Liz Ponting \n",
    "# Project \n",
    "# Analysis of Word Count by gender and ethnicity for Oscars Best Picture.  Have the films become more diverse? \n",
    "\n",
    "#34 points needed \n",
    "# import (2),additional datasets (1), create own dataset (2), join (4) , groupby (3),statistical metrics (3), github push (6),plots (6), linear model (2), git commits (3) = 32 points\n",
    "\n",
    "# linear models (4), functions (2) - 9\n"
   ]
  },
  {
   "cell_type": "code",
   "execution_count": 125,
   "metadata": {},
   "outputs": [
    {
     "data": {
      "text/html": [
       "<div>\n",
       "<style scoped>\n",
       "    .dataframe tbody tr th:only-of-type {\n",
       "        vertical-align: middle;\n",
       "    }\n",
       "\n",
       "    .dataframe tbody tr th {\n",
       "        vertical-align: top;\n",
       "    }\n",
       "\n",
       "    .dataframe thead th {\n",
       "        text-align: right;\n",
       "    }\n",
       "</style>\n",
       "<table border=\"1\" class=\"dataframe\">\n",
       "  <thead>\n",
       "    <tr style=\"text-align: right;\">\n",
       "      <th></th>\n",
       "      <th>year</th>\n",
       "      <th>film</th>\n",
       "      <th>actor</th>\n",
       "      <th>characters</th>\n",
       "      <th>imdb</th>\n",
       "      <th>gender</th>\n",
       "      <th>race</th>\n",
       "      <th>race_simple</th>\n",
       "      <th>words</th>\n",
       "      <th>sentences</th>\n",
       "    </tr>\n",
       "  </thead>\n",
       "  <tbody>\n",
       "    <tr>\n",
       "      <td>0</td>\n",
       "      <td>1989</td>\n",
       "      <td>born-on-the-fourth-of-july</td>\n",
       "      <td>Dale Dye</td>\n",
       "      <td>COLONEL</td>\n",
       "      <td>http://www.imdb.com/name/nm0245653/</td>\n",
       "      <td>male</td>\n",
       "      <td>White/Caucasian</td>\n",
       "      <td>White</td>\n",
       "      <td>216.0</td>\n",
       "      <td>15.0</td>\n",
       "    </tr>\n",
       "    <tr>\n",
       "      <td>1</td>\n",
       "      <td>1989</td>\n",
       "      <td>born-on-the-fourth-of-july</td>\n",
       "      <td>David Warshofsky</td>\n",
       "      <td>LIEUTENANT</td>\n",
       "      <td>http://www.imdb.com/name/nm0913175/</td>\n",
       "      <td>male</td>\n",
       "      <td>White/Caucasian</td>\n",
       "      <td>White</td>\n",
       "      <td>290.0</td>\n",
       "      <td>40.0</td>\n",
       "    </tr>\n",
       "    <tr>\n",
       "      <td>2</td>\n",
       "      <td>1989</td>\n",
       "      <td>born-on-the-fourth-of-july</td>\n",
       "      <td>Frank Whaley</td>\n",
       "      <td>TIMMY</td>\n",
       "      <td>http://www.imdb.com/name/nm0001844/</td>\n",
       "      <td>male</td>\n",
       "      <td>White/Caucasian</td>\n",
       "      <td>White</td>\n",
       "      <td>104.0</td>\n",
       "      <td>14.0</td>\n",
       "    </tr>\n",
       "    <tr>\n",
       "      <td>3</td>\n",
       "      <td>1989</td>\n",
       "      <td>born-on-the-fourth-of-july</td>\n",
       "      <td>Jerry Levine</td>\n",
       "      <td>STEVE</td>\n",
       "      <td>http://www.imdb.com/name/nm0505842/</td>\n",
       "      <td>male</td>\n",
       "      <td>White/Caucasian</td>\n",
       "      <td>White</td>\n",
       "      <td>300.0</td>\n",
       "      <td>35.0</td>\n",
       "    </tr>\n",
       "    <tr>\n",
       "      <td>4</td>\n",
       "      <td>1989</td>\n",
       "      <td>born-on-the-fourth-of-july</td>\n",
       "      <td>John F. Kennedy</td>\n",
       "      <td>KENNEDY</td>\n",
       "      <td>NaN</td>\n",
       "      <td>male</td>\n",
       "      <td>White/Caucasian</td>\n",
       "      <td>White</td>\n",
       "      <td>217.0</td>\n",
       "      <td>5.0</td>\n",
       "    </tr>\n",
       "  </tbody>\n",
       "</table>\n",
       "</div>"
      ],
      "text/plain": [
       "   year                        film             actor  characters  \\\n",
       "0  1989  born-on-the-fourth-of-july          Dale Dye     COLONEL   \n",
       "1  1989  born-on-the-fourth-of-july  David Warshofsky  LIEUTENANT   \n",
       "2  1989  born-on-the-fourth-of-july      Frank Whaley       TIMMY   \n",
       "3  1989  born-on-the-fourth-of-july      Jerry Levine       STEVE   \n",
       "4  1989  born-on-the-fourth-of-july   John F. Kennedy     KENNEDY   \n",
       "\n",
       "                                  imdb gender             race race_simple  \\\n",
       "0  http://www.imdb.com/name/nm0245653/   male  White/Caucasian       White   \n",
       "1  http://www.imdb.com/name/nm0913175/   male  White/Caucasian       White   \n",
       "2  http://www.imdb.com/name/nm0001844/   male  White/Caucasian       White   \n",
       "3  http://www.imdb.com/name/nm0505842/   male  White/Caucasian       White   \n",
       "4                                  NaN   male  White/Caucasian       White   \n",
       "\n",
       "   words  sentences  \n",
       "0  216.0       15.0  \n",
       "1  290.0       40.0  \n",
       "2  104.0       14.0  \n",
       "3  300.0       35.0  \n",
       "4  217.0        5.0  "
      ]
     },
     "execution_count": 125,
     "metadata": {},
     "output_type": "execute_result"
    }
   ],
   "source": [
    "# Import the actor and character word count files (2 points) \n",
    "import pandas as pd\n",
    "actor = pd.read_csv(r'C:\\Users\\Liz Ponting\\Desktop\\actor-metrics.csv')\n",
    "actor.head()"
   ]
  },
  {
   "cell_type": "code",
   "execution_count": 126,
   "metadata": {},
   "outputs": [
    {
     "data": {
      "text/html": [
       "<div>\n",
       "<style scoped>\n",
       "    .dataframe tbody tr th:only-of-type {\n",
       "        vertical-align: middle;\n",
       "    }\n",
       "\n",
       "    .dataframe tbody tr th {\n",
       "        vertical-align: top;\n",
       "    }\n",
       "\n",
       "    .dataframe thead th {\n",
       "        text-align: right;\n",
       "    }\n",
       "</style>\n",
       "<table border=\"1\" class=\"dataframe\">\n",
       "  <thead>\n",
       "    <tr style=\"text-align: right;\">\n",
       "      <th></th>\n",
       "      <th>year</th>\n",
       "      <th>film</th>\n",
       "      <th>character</th>\n",
       "      <th>actor</th>\n",
       "      <th>word</th>\n",
       "      <th>count</th>\n",
       "    </tr>\n",
       "  </thead>\n",
       "  <tbody>\n",
       "    <tr>\n",
       "      <td>0</td>\n",
       "      <td>1989</td>\n",
       "      <td>born-on-the-fourth-of-july</td>\n",
       "      <td>COACH</td>\n",
       "      <td>Richard Grusin</td>\n",
       "      <td>4th</td>\n",
       "      <td>1</td>\n",
       "    </tr>\n",
       "    <tr>\n",
       "      <td>1</td>\n",
       "      <td>1989</td>\n",
       "      <td>born-on-the-fourth-of-july</td>\n",
       "      <td>COACH</td>\n",
       "      <td>Richard Grusin</td>\n",
       "      <td>awrightl</td>\n",
       "      <td>1</td>\n",
       "    </tr>\n",
       "    <tr>\n",
       "      <td>2</td>\n",
       "      <td>1989</td>\n",
       "      <td>born-on-the-fourth-of-july</td>\n",
       "      <td>COACH</td>\n",
       "      <td>Richard Grusin</td>\n",
       "      <td>babies</td>\n",
       "      <td>1</td>\n",
       "    </tr>\n",
       "    <tr>\n",
       "      <td>3</td>\n",
       "      <td>1989</td>\n",
       "      <td>born-on-the-fourth-of-july</td>\n",
       "      <td>COACH</td>\n",
       "      <td>Richard Grusin</td>\n",
       "      <td>baby</td>\n",
       "      <td>2</td>\n",
       "    </tr>\n",
       "    <tr>\n",
       "      <td>4</td>\n",
       "      <td>1989</td>\n",
       "      <td>born-on-the-fourth-of-july</td>\n",
       "      <td>COACH</td>\n",
       "      <td>Richard Grusin</td>\n",
       "      <td>bleed</td>\n",
       "      <td>1</td>\n",
       "    </tr>\n",
       "  </tbody>\n",
       "</table>\n",
       "</div>"
      ],
      "text/plain": [
       "   year                        film character           actor      word  count\n",
       "0  1989  born-on-the-fourth-of-july     COACH  Richard Grusin       4th      1\n",
       "1  1989  born-on-the-fourth-of-july     COACH  Richard Grusin  awrightl      1\n",
       "2  1989  born-on-the-fourth-of-july     COACH  Richard Grusin    babies      1\n",
       "3  1989  born-on-the-fourth-of-july     COACH  Richard Grusin      baby      2\n",
       "4  1989  born-on-the-fourth-of-july     COACH  Richard Grusin     bleed      1"
      ]
     },
     "execution_count": 126,
     "metadata": {},
     "output_type": "execute_result"
    }
   ],
   "source": [
    "#import additional file (1 point)\n",
    "words = pd.read_csv(r'C:\\Users\\Liz Ponting\\Desktop\\character-word-counts.csv')\n",
    "words.head()"
   ]
  },
  {
   "cell_type": "code",
   "execution_count": 127,
   "metadata": {},
   "outputs": [
    {
     "data": {
      "text/html": [
       "<div>\n",
       "<style scoped>\n",
       "    .dataframe tbody tr th:only-of-type {\n",
       "        vertical-align: middle;\n",
       "    }\n",
       "\n",
       "    .dataframe tbody tr th {\n",
       "        vertical-align: top;\n",
       "    }\n",
       "\n",
       "    .dataframe thead th {\n",
       "        text-align: right;\n",
       "    }\n",
       "</style>\n",
       "<table border=\"1\" class=\"dataframe\">\n",
       "  <thead>\n",
       "    <tr style=\"text-align: right;\">\n",
       "      <th></th>\n",
       "      <th>year</th>\n",
       "      <th>film</th>\n",
       "      <th>actor</th>\n",
       "      <th>characters</th>\n",
       "      <th>Birthyear</th>\n",
       "      <th>AgeDuringFilm</th>\n",
       "    </tr>\n",
       "  </thead>\n",
       "  <tbody>\n",
       "    <tr>\n",
       "      <td>0</td>\n",
       "      <td>1989</td>\n",
       "      <td>born-on-the-fourth-of-july</td>\n",
       "      <td>Dale Dye</td>\n",
       "      <td>COLONEL</td>\n",
       "      <td>1944</td>\n",
       "      <td>45</td>\n",
       "    </tr>\n",
       "    <tr>\n",
       "      <td>1</td>\n",
       "      <td>1989</td>\n",
       "      <td>born-on-the-fourth-of-july</td>\n",
       "      <td>David Warshofsky</td>\n",
       "      <td>LIEUTENANT</td>\n",
       "      <td>1961</td>\n",
       "      <td>28</td>\n",
       "    </tr>\n",
       "    <tr>\n",
       "      <td>2</td>\n",
       "      <td>1989</td>\n",
       "      <td>born-on-the-fourth-of-july</td>\n",
       "      <td>Frank Whaley</td>\n",
       "      <td>TIMMY</td>\n",
       "      <td>1963</td>\n",
       "      <td>26</td>\n",
       "    </tr>\n",
       "    <tr>\n",
       "      <td>3</td>\n",
       "      <td>1989</td>\n",
       "      <td>born-on-the-fourth-of-july</td>\n",
       "      <td>Jerry Levine</td>\n",
       "      <td>STEVE</td>\n",
       "      <td>1957</td>\n",
       "      <td>32</td>\n",
       "    </tr>\n",
       "    <tr>\n",
       "      <td>4</td>\n",
       "      <td>1989</td>\n",
       "      <td>born-on-the-fourth-of-july</td>\n",
       "      <td>John F. Kennedy</td>\n",
       "      <td>KENNEDY</td>\n",
       "      <td>1917</td>\n",
       "      <td>72</td>\n",
       "    </tr>\n",
       "  </tbody>\n",
       "</table>\n",
       "</div>"
      ],
      "text/plain": [
       "   year                        film             actor  characters  Birthyear  \\\n",
       "0  1989  born-on-the-fourth-of-july          Dale Dye     COLONEL       1944   \n",
       "1  1989  born-on-the-fourth-of-july  David Warshofsky  LIEUTENANT       1961   \n",
       "2  1989  born-on-the-fourth-of-july      Frank Whaley       TIMMY       1963   \n",
       "3  1989  born-on-the-fourth-of-july      Jerry Levine       STEVE       1957   \n",
       "4  1989  born-on-the-fourth-of-july   John F. Kennedy     KENNEDY       1917   \n",
       "\n",
       "   AgeDuringFilm  \n",
       "0             45  \n",
       "1             28  \n",
       "2             26  \n",
       "3             32  \n",
       "4             72  "
      ]
     },
     "execution_count": 127,
     "metadata": {},
     "output_type": "execute_result"
    }
   ],
   "source": [
    "# Created additional data set to determine if age is also a factor (2 points)\n",
    "age = pd.read_csv(r'C:\\Users\\Liz Ponting\\Desktop\\actor-birthdays.csv')\n",
    "age.head()"
   ]
  },
  {
   "cell_type": "code",
   "execution_count": 128,
   "metadata": {},
   "outputs": [
    {
     "data": {
      "text/html": [
       "<div>\n",
       "<style scoped>\n",
       "    .dataframe tbody tr th:only-of-type {\n",
       "        vertical-align: middle;\n",
       "    }\n",
       "\n",
       "    .dataframe tbody tr th {\n",
       "        vertical-align: top;\n",
       "    }\n",
       "\n",
       "    .dataframe thead th {\n",
       "        text-align: right;\n",
       "    }\n",
       "</style>\n",
       "<table border=\"1\" class=\"dataframe\">\n",
       "  <thead>\n",
       "    <tr style=\"text-align: right;\">\n",
       "      <th></th>\n",
       "      <th>year_x</th>\n",
       "      <th>film_x</th>\n",
       "      <th>actor</th>\n",
       "      <th>characters</th>\n",
       "      <th>imdb</th>\n",
       "      <th>gender</th>\n",
       "      <th>race</th>\n",
       "      <th>race_simple</th>\n",
       "      <th>words</th>\n",
       "      <th>sentences</th>\n",
       "      <th>year_y</th>\n",
       "      <th>film_y</th>\n",
       "      <th>character</th>\n",
       "      <th>word</th>\n",
       "      <th>count</th>\n",
       "    </tr>\n",
       "  </thead>\n",
       "  <tbody>\n",
       "    <tr>\n",
       "      <td>0</td>\n",
       "      <td>1989</td>\n",
       "      <td>born-on-the-fourth-of-july</td>\n",
       "      <td>Dale Dye</td>\n",
       "      <td>COLONEL</td>\n",
       "      <td>http://www.imdb.com/name/nm0245653/</td>\n",
       "      <td>male</td>\n",
       "      <td>White/Caucasian</td>\n",
       "      <td>White</td>\n",
       "      <td>216.0</td>\n",
       "      <td>15.0</td>\n",
       "      <td>1989</td>\n",
       "      <td>born-on-the-fourth-of-july</td>\n",
       "      <td>COLONEL</td>\n",
       "      <td>'bout</td>\n",
       "      <td>1</td>\n",
       "    </tr>\n",
       "    <tr>\n",
       "      <td>1</td>\n",
       "      <td>1989</td>\n",
       "      <td>born-on-the-fourth-of-july</td>\n",
       "      <td>Dale Dye</td>\n",
       "      <td>COLONEL</td>\n",
       "      <td>http://www.imdb.com/name/nm0245653/</td>\n",
       "      <td>male</td>\n",
       "      <td>White/Caucasian</td>\n",
       "      <td>White</td>\n",
       "      <td>216.0</td>\n",
       "      <td>15.0</td>\n",
       "      <td>1989</td>\n",
       "      <td>born-on-the-fourth-of-july</td>\n",
       "      <td>COLONEL</td>\n",
       "      <td>82nd</td>\n",
       "      <td>1</td>\n",
       "    </tr>\n",
       "    <tr>\n",
       "      <td>2</td>\n",
       "      <td>1989</td>\n",
       "      <td>born-on-the-fourth-of-july</td>\n",
       "      <td>Dale Dye</td>\n",
       "      <td>COLONEL</td>\n",
       "      <td>http://www.imdb.com/name/nm0245653/</td>\n",
       "      <td>male</td>\n",
       "      <td>White/Caucasian</td>\n",
       "      <td>White</td>\n",
       "      <td>216.0</td>\n",
       "      <td>15.0</td>\n",
       "      <td>1989</td>\n",
       "      <td>born-on-the-fourth-of-july</td>\n",
       "      <td>COLONEL</td>\n",
       "      <td>airborne</td>\n",
       "      <td>1</td>\n",
       "    </tr>\n",
       "    <tr>\n",
       "      <td>3</td>\n",
       "      <td>1989</td>\n",
       "      <td>born-on-the-fourth-of-july</td>\n",
       "      <td>Dale Dye</td>\n",
       "      <td>COLONEL</td>\n",
       "      <td>http://www.imdb.com/name/nm0245653/</td>\n",
       "      <td>male</td>\n",
       "      <td>White/Caucasian</td>\n",
       "      <td>White</td>\n",
       "      <td>216.0</td>\n",
       "      <td>15.0</td>\n",
       "      <td>1989</td>\n",
       "      <td>born-on-the-fourth-of-july</td>\n",
       "      <td>COLONEL</td>\n",
       "      <td>answer</td>\n",
       "      <td>1</td>\n",
       "    </tr>\n",
       "    <tr>\n",
       "      <td>4</td>\n",
       "      <td>1989</td>\n",
       "      <td>born-on-the-fourth-of-july</td>\n",
       "      <td>Dale Dye</td>\n",
       "      <td>COLONEL</td>\n",
       "      <td>http://www.imdb.com/name/nm0245653/</td>\n",
       "      <td>male</td>\n",
       "      <td>White/Caucasian</td>\n",
       "      <td>White</td>\n",
       "      <td>216.0</td>\n",
       "      <td>15.0</td>\n",
       "      <td>1989</td>\n",
       "      <td>born-on-the-fourth-of-july</td>\n",
       "      <td>COLONEL</td>\n",
       "      <td>arty</td>\n",
       "      <td>1</td>\n",
       "    </tr>\n",
       "  </tbody>\n",
       "</table>\n",
       "</div>"
      ],
      "text/plain": [
       "   year_x                      film_x     actor characters  \\\n",
       "0    1989  born-on-the-fourth-of-july  Dale Dye    COLONEL   \n",
       "1    1989  born-on-the-fourth-of-july  Dale Dye    COLONEL   \n",
       "2    1989  born-on-the-fourth-of-july  Dale Dye    COLONEL   \n",
       "3    1989  born-on-the-fourth-of-july  Dale Dye    COLONEL   \n",
       "4    1989  born-on-the-fourth-of-july  Dale Dye    COLONEL   \n",
       "\n",
       "                                  imdb gender             race race_simple  \\\n",
       "0  http://www.imdb.com/name/nm0245653/   male  White/Caucasian       White   \n",
       "1  http://www.imdb.com/name/nm0245653/   male  White/Caucasian       White   \n",
       "2  http://www.imdb.com/name/nm0245653/   male  White/Caucasian       White   \n",
       "3  http://www.imdb.com/name/nm0245653/   male  White/Caucasian       White   \n",
       "4  http://www.imdb.com/name/nm0245653/   male  White/Caucasian       White   \n",
       "\n",
       "   words  sentences  year_y                      film_y character      word  \\\n",
       "0  216.0       15.0    1989  born-on-the-fourth-of-july   COLONEL     'bout   \n",
       "1  216.0       15.0    1989  born-on-the-fourth-of-july   COLONEL      82nd   \n",
       "2  216.0       15.0    1989  born-on-the-fourth-of-july   COLONEL  airborne   \n",
       "3  216.0       15.0    1989  born-on-the-fourth-of-july   COLONEL    answer   \n",
       "4  216.0       15.0    1989  born-on-the-fourth-of-july   COLONEL      arty   \n",
       "\n",
       "   count  \n",
       "0      1  \n",
       "1      1  \n",
       "2      1  \n",
       "3      1  \n",
       "4      1  "
      ]
     },
     "execution_count": 128,
     "metadata": {},
     "output_type": "execute_result"
    }
   ],
   "source": [
    "# Combine the two data sets using Join (4 points)\n",
    "joined_data_one = pd.merge(actor, words,on='actor')\n",
    "joined_data_one.head()"
   ]
  },
  {
   "cell_type": "code",
   "execution_count": 129,
   "metadata": {},
   "outputs": [
    {
     "data": {
      "text/html": [
       "<div>\n",
       "<style scoped>\n",
       "    .dataframe tbody tr th:only-of-type {\n",
       "        vertical-align: middle;\n",
       "    }\n",
       "\n",
       "    .dataframe tbody tr th {\n",
       "        vertical-align: top;\n",
       "    }\n",
       "\n",
       "    .dataframe thead th {\n",
       "        text-align: right;\n",
       "    }\n",
       "</style>\n",
       "<table border=\"1\" class=\"dataframe\">\n",
       "  <thead>\n",
       "    <tr style=\"text-align: right;\">\n",
       "      <th></th>\n",
       "      <th>year_x</th>\n",
       "      <th>film_x</th>\n",
       "      <th>actor</th>\n",
       "      <th>characters_x</th>\n",
       "      <th>imdb</th>\n",
       "      <th>gender</th>\n",
       "      <th>race</th>\n",
       "      <th>race_simple</th>\n",
       "      <th>words</th>\n",
       "      <th>sentences</th>\n",
       "      <th>year_y</th>\n",
       "      <th>film_y</th>\n",
       "      <th>character</th>\n",
       "      <th>word</th>\n",
       "      <th>count</th>\n",
       "      <th>year</th>\n",
       "      <th>film</th>\n",
       "      <th>characters_y</th>\n",
       "      <th>Birthyear</th>\n",
       "      <th>AgeDuringFilm</th>\n",
       "    </tr>\n",
       "  </thead>\n",
       "  <tbody>\n",
       "    <tr>\n",
       "      <td>0</td>\n",
       "      <td>1989</td>\n",
       "      <td>born-on-the-fourth-of-july</td>\n",
       "      <td>Dale Dye</td>\n",
       "      <td>COLONEL</td>\n",
       "      <td>http://www.imdb.com/name/nm0245653/</td>\n",
       "      <td>male</td>\n",
       "      <td>White/Caucasian</td>\n",
       "      <td>White</td>\n",
       "      <td>216.0</td>\n",
       "      <td>15.0</td>\n",
       "      <td>1989</td>\n",
       "      <td>born-on-the-fourth-of-july</td>\n",
       "      <td>COLONEL</td>\n",
       "      <td>'bout</td>\n",
       "      <td>1</td>\n",
       "      <td>1989</td>\n",
       "      <td>born-on-the-fourth-of-july</td>\n",
       "      <td>COLONEL</td>\n",
       "      <td>1944</td>\n",
       "      <td>45</td>\n",
       "    </tr>\n",
       "    <tr>\n",
       "      <td>1</td>\n",
       "      <td>1989</td>\n",
       "      <td>born-on-the-fourth-of-july</td>\n",
       "      <td>Dale Dye</td>\n",
       "      <td>COLONEL</td>\n",
       "      <td>http://www.imdb.com/name/nm0245653/</td>\n",
       "      <td>male</td>\n",
       "      <td>White/Caucasian</td>\n",
       "      <td>White</td>\n",
       "      <td>216.0</td>\n",
       "      <td>15.0</td>\n",
       "      <td>1989</td>\n",
       "      <td>born-on-the-fourth-of-july</td>\n",
       "      <td>COLONEL</td>\n",
       "      <td>82nd</td>\n",
       "      <td>1</td>\n",
       "      <td>1989</td>\n",
       "      <td>born-on-the-fourth-of-july</td>\n",
       "      <td>COLONEL</td>\n",
       "      <td>1944</td>\n",
       "      <td>45</td>\n",
       "    </tr>\n",
       "    <tr>\n",
       "      <td>2</td>\n",
       "      <td>1989</td>\n",
       "      <td>born-on-the-fourth-of-july</td>\n",
       "      <td>Dale Dye</td>\n",
       "      <td>COLONEL</td>\n",
       "      <td>http://www.imdb.com/name/nm0245653/</td>\n",
       "      <td>male</td>\n",
       "      <td>White/Caucasian</td>\n",
       "      <td>White</td>\n",
       "      <td>216.0</td>\n",
       "      <td>15.0</td>\n",
       "      <td>1989</td>\n",
       "      <td>born-on-the-fourth-of-july</td>\n",
       "      <td>COLONEL</td>\n",
       "      <td>airborne</td>\n",
       "      <td>1</td>\n",
       "      <td>1989</td>\n",
       "      <td>born-on-the-fourth-of-july</td>\n",
       "      <td>COLONEL</td>\n",
       "      <td>1944</td>\n",
       "      <td>45</td>\n",
       "    </tr>\n",
       "    <tr>\n",
       "      <td>3</td>\n",
       "      <td>1989</td>\n",
       "      <td>born-on-the-fourth-of-july</td>\n",
       "      <td>Dale Dye</td>\n",
       "      <td>COLONEL</td>\n",
       "      <td>http://www.imdb.com/name/nm0245653/</td>\n",
       "      <td>male</td>\n",
       "      <td>White/Caucasian</td>\n",
       "      <td>White</td>\n",
       "      <td>216.0</td>\n",
       "      <td>15.0</td>\n",
       "      <td>1989</td>\n",
       "      <td>born-on-the-fourth-of-july</td>\n",
       "      <td>COLONEL</td>\n",
       "      <td>answer</td>\n",
       "      <td>1</td>\n",
       "      <td>1989</td>\n",
       "      <td>born-on-the-fourth-of-july</td>\n",
       "      <td>COLONEL</td>\n",
       "      <td>1944</td>\n",
       "      <td>45</td>\n",
       "    </tr>\n",
       "    <tr>\n",
       "      <td>4</td>\n",
       "      <td>1989</td>\n",
       "      <td>born-on-the-fourth-of-july</td>\n",
       "      <td>Dale Dye</td>\n",
       "      <td>COLONEL</td>\n",
       "      <td>http://www.imdb.com/name/nm0245653/</td>\n",
       "      <td>male</td>\n",
       "      <td>White/Caucasian</td>\n",
       "      <td>White</td>\n",
       "      <td>216.0</td>\n",
       "      <td>15.0</td>\n",
       "      <td>1989</td>\n",
       "      <td>born-on-the-fourth-of-july</td>\n",
       "      <td>COLONEL</td>\n",
       "      <td>arty</td>\n",
       "      <td>1</td>\n",
       "      <td>1989</td>\n",
       "      <td>born-on-the-fourth-of-july</td>\n",
       "      <td>COLONEL</td>\n",
       "      <td>1944</td>\n",
       "      <td>45</td>\n",
       "    </tr>\n",
       "  </tbody>\n",
       "</table>\n",
       "</div>"
      ],
      "text/plain": [
       "   year_x                      film_x     actor characters_x  \\\n",
       "0    1989  born-on-the-fourth-of-july  Dale Dye      COLONEL   \n",
       "1    1989  born-on-the-fourth-of-july  Dale Dye      COLONEL   \n",
       "2    1989  born-on-the-fourth-of-july  Dale Dye      COLONEL   \n",
       "3    1989  born-on-the-fourth-of-july  Dale Dye      COLONEL   \n",
       "4    1989  born-on-the-fourth-of-july  Dale Dye      COLONEL   \n",
       "\n",
       "                                  imdb gender             race race_simple  \\\n",
       "0  http://www.imdb.com/name/nm0245653/   male  White/Caucasian       White   \n",
       "1  http://www.imdb.com/name/nm0245653/   male  White/Caucasian       White   \n",
       "2  http://www.imdb.com/name/nm0245653/   male  White/Caucasian       White   \n",
       "3  http://www.imdb.com/name/nm0245653/   male  White/Caucasian       White   \n",
       "4  http://www.imdb.com/name/nm0245653/   male  White/Caucasian       White   \n",
       "\n",
       "   words  sentences  year_y                      film_y character      word  \\\n",
       "0  216.0       15.0    1989  born-on-the-fourth-of-july   COLONEL     'bout   \n",
       "1  216.0       15.0    1989  born-on-the-fourth-of-july   COLONEL      82nd   \n",
       "2  216.0       15.0    1989  born-on-the-fourth-of-july   COLONEL  airborne   \n",
       "3  216.0       15.0    1989  born-on-the-fourth-of-july   COLONEL    answer   \n",
       "4  216.0       15.0    1989  born-on-the-fourth-of-july   COLONEL      arty   \n",
       "\n",
       "   count  year                        film characters_y  Birthyear  \\\n",
       "0      1  1989  born-on-the-fourth-of-july      COLONEL       1944   \n",
       "1      1  1989  born-on-the-fourth-of-july      COLONEL       1944   \n",
       "2      1  1989  born-on-the-fourth-of-july      COLONEL       1944   \n",
       "3      1  1989  born-on-the-fourth-of-july      COLONEL       1944   \n",
       "4      1  1989  born-on-the-fourth-of-july      COLONEL       1944   \n",
       "\n",
       "   AgeDuringFilm  \n",
       "0             45  \n",
       "1             45  \n",
       "2             45  \n",
       "3             45  \n",
       "4             45  "
      ]
     },
     "execution_count": 129,
     "metadata": {},
     "output_type": "execute_result"
    }
   ],
   "source": [
    "# Join additoinal data set \n",
    "joined_data_two = pd.merge(joined_data_one,age,on='actor')\n",
    "joined_data_two.head()"
   ]
  },
  {
   "cell_type": "code",
   "execution_count": 130,
   "metadata": {},
   "outputs": [
    {
     "data": {
      "text/html": [
       "<div>\n",
       "<style scoped>\n",
       "    .dataframe tbody tr th:only-of-type {\n",
       "        vertical-align: middle;\n",
       "    }\n",
       "\n",
       "    .dataframe tbody tr th {\n",
       "        vertical-align: top;\n",
       "    }\n",
       "\n",
       "    .dataframe thead tr th {\n",
       "        text-align: left;\n",
       "    }\n",
       "\n",
       "    .dataframe thead tr:last-of-type th {\n",
       "        text-align: right;\n",
       "    }\n",
       "</style>\n",
       "<table border=\"1\" class=\"dataframe\">\n",
       "  <thead>\n",
       "    <tr>\n",
       "      <th></th>\n",
       "      <th></th>\n",
       "      <th>count</th>\n",
       "    </tr>\n",
       "    <tr>\n",
       "      <th></th>\n",
       "      <th></th>\n",
       "      <th>sum</th>\n",
       "    </tr>\n",
       "    <tr>\n",
       "      <th>year_x</th>\n",
       "      <th>gender</th>\n",
       "      <th></th>\n",
       "    </tr>\n",
       "  </thead>\n",
       "  <tbody>\n",
       "    <tr>\n",
       "      <td rowspan=\"2\" valign=\"top\">1989</td>\n",
       "      <td>female</td>\n",
       "      <td>2546</td>\n",
       "    </tr>\n",
       "    <tr>\n",
       "      <td>male</td>\n",
       "      <td>9615</td>\n",
       "    </tr>\n",
       "    <tr>\n",
       "      <td rowspan=\"2\" valign=\"top\">2015</td>\n",
       "      <td>female</td>\n",
       "      <td>8161</td>\n",
       "    </tr>\n",
       "    <tr>\n",
       "      <td>male</td>\n",
       "      <td>28067</td>\n",
       "    </tr>\n",
       "    <tr>\n",
       "      <td rowspan=\"2\" valign=\"top\">2017</td>\n",
       "      <td>female</td>\n",
       "      <td>8710</td>\n",
       "    </tr>\n",
       "    <tr>\n",
       "      <td>male</td>\n",
       "      <td>30664</td>\n",
       "    </tr>\n",
       "  </tbody>\n",
       "</table>\n",
       "</div>"
      ],
      "text/plain": [
       "               count\n",
       "                 sum\n",
       "year_x gender       \n",
       "1989   female   2546\n",
       "       male     9615\n",
       "2015   female   8161\n",
       "       male    28067\n",
       "2017   female   8710\n",
       "       male    30664"
      ]
     },
     "execution_count": 130,
     "metadata": {},
     "output_type": "execute_result"
    }
   ],
   "source": [
    "# Explore the data using group by functions  (3 points) \n",
    "joined_data_two.groupby(['year_x','gender']).agg({'count':['sum']})"
   ]
  },
  {
   "cell_type": "code",
   "execution_count": 188,
   "metadata": {},
   "outputs": [
    {
     "data": {
      "text/html": [
       "<div>\n",
       "<style scoped>\n",
       "    .dataframe tbody tr th:only-of-type {\n",
       "        vertical-align: middle;\n",
       "    }\n",
       "\n",
       "    .dataframe tbody tr th {\n",
       "        vertical-align: top;\n",
       "    }\n",
       "\n",
       "    .dataframe thead tr th {\n",
       "        text-align: left;\n",
       "    }\n",
       "\n",
       "    .dataframe thead tr:last-of-type th {\n",
       "        text-align: right;\n",
       "    }\n",
       "</style>\n",
       "<table border=\"1\" class=\"dataframe\">\n",
       "  <thead>\n",
       "    <tr>\n",
       "      <th></th>\n",
       "      <th></th>\n",
       "      <th colspan=\"2\" halign=\"left\">words</th>\n",
       "    </tr>\n",
       "    <tr>\n",
       "      <th></th>\n",
       "      <th></th>\n",
       "      <th colspan=\"2\" halign=\"left\">sum</th>\n",
       "    </tr>\n",
       "    <tr>\n",
       "      <th></th>\n",
       "      <th>gender</th>\n",
       "      <th>female</th>\n",
       "      <th>male</th>\n",
       "    </tr>\n",
       "    <tr>\n",
       "      <th>year_x</th>\n",
       "      <th>film_x</th>\n",
       "      <th></th>\n",
       "      <th></th>\n",
       "    </tr>\n",
       "  </thead>\n",
       "  <tbody>\n",
       "    <tr>\n",
       "      <td rowspan=\"5\" valign=\"top\">1989</td>\n",
       "      <td>born-on-the-fourth-of-july</td>\n",
       "      <td>31608.0</td>\n",
       "      <td>787794.0</td>\n",
       "    </tr>\n",
       "    <tr>\n",
       "      <td>dead-poets-society</td>\n",
       "      <td>7735.0</td>\n",
       "      <td>702659.0</td>\n",
       "    </tr>\n",
       "    <tr>\n",
       "      <td>driving-miss-daisy</td>\n",
       "      <td>2408667.0</td>\n",
       "      <td>2888724.0</td>\n",
       "    </tr>\n",
       "    <tr>\n",
       "      <td>field-of-dreams</td>\n",
       "      <td>522436.0</td>\n",
       "      <td>3376923.0</td>\n",
       "    </tr>\n",
       "    <tr>\n",
       "      <td>my-left-foot</td>\n",
       "      <td>351071.0</td>\n",
       "      <td>1689185.0</td>\n",
       "    </tr>\n",
       "    <tr>\n",
       "      <td rowspan=\"8\" valign=\"top\">2015</td>\n",
       "      <td>bridge-of-spies</td>\n",
       "      <td>17577.0</td>\n",
       "      <td>11429450.0</td>\n",
       "    </tr>\n",
       "    <tr>\n",
       "      <td>brooklyn</td>\n",
       "      <td>6664193.0</td>\n",
       "      <td>872240.0</td>\n",
       "    </tr>\n",
       "    <tr>\n",
       "      <td>mad-max</td>\n",
       "      <td>214324.0</td>\n",
       "      <td>745860.0</td>\n",
       "    </tr>\n",
       "    <tr>\n",
       "      <td>room</td>\n",
       "      <td>2188924.0</td>\n",
       "      <td>715296.0</td>\n",
       "    </tr>\n",
       "    <tr>\n",
       "      <td>spotlight</td>\n",
       "      <td>342528.0</td>\n",
       "      <td>3714190.0</td>\n",
       "    </tr>\n",
       "    <tr>\n",
       "      <td>the-big-short</td>\n",
       "      <td>87069.0</td>\n",
       "      <td>4551189.0</td>\n",
       "    </tr>\n",
       "    <tr>\n",
       "      <td>the-martian</td>\n",
       "      <td>502045.0</td>\n",
       "      <td>3171685.0</td>\n",
       "    </tr>\n",
       "    <tr>\n",
       "      <td>the-revenant</td>\n",
       "      <td>NaN</td>\n",
       "      <td>3013756.0</td>\n",
       "    </tr>\n",
       "    <tr>\n",
       "      <td rowspan=\"9\" valign=\"top\">2017</td>\n",
       "      <td>call-me-by-your-name</td>\n",
       "      <td>274791.0</td>\n",
       "      <td>4198512.0</td>\n",
       "    </tr>\n",
       "    <tr>\n",
       "      <td>darkest-hour</td>\n",
       "      <td>113299.0</td>\n",
       "      <td>5005481.0</td>\n",
       "    </tr>\n",
       "    <tr>\n",
       "      <td>dunkirk</td>\n",
       "      <td>NaN</td>\n",
       "      <td>545399.0</td>\n",
       "    </tr>\n",
       "    <tr>\n",
       "      <td>get-out</td>\n",
       "      <td>324212.0</td>\n",
       "      <td>1287685.0</td>\n",
       "    </tr>\n",
       "    <tr>\n",
       "      <td>lady-bird</td>\n",
       "      <td>6347439.0</td>\n",
       "      <td>1248697.0</td>\n",
       "    </tr>\n",
       "    <tr>\n",
       "      <td>phantom-thread</td>\n",
       "      <td>839757.0</td>\n",
       "      <td>3459992.0</td>\n",
       "    </tr>\n",
       "    <tr>\n",
       "      <td>the-post</td>\n",
       "      <td>1323706.0</td>\n",
       "      <td>10660603.0</td>\n",
       "    </tr>\n",
       "    <tr>\n",
       "      <td>the-shape-of-water</td>\n",
       "      <td>375853.0</td>\n",
       "      <td>4010549.0</td>\n",
       "    </tr>\n",
       "    <tr>\n",
       "      <td>three-billboards-outside-ebbing-missouri</td>\n",
       "      <td>1085440.0</td>\n",
       "      <td>1567842.0</td>\n",
       "    </tr>\n",
       "  </tbody>\n",
       "</table>\n",
       "</div>"
      ],
      "text/plain": [
       "                                                     words            \n",
       "                                                       sum            \n",
       "gender                                              female        male\n",
       "year_x film_x                                                         \n",
       "1989   born-on-the-fourth-of-july                  31608.0    787794.0\n",
       "       dead-poets-society                           7735.0    702659.0\n",
       "       driving-miss-daisy                        2408667.0   2888724.0\n",
       "       field-of-dreams                            522436.0   3376923.0\n",
       "       my-left-foot                               351071.0   1689185.0\n",
       "2015   bridge-of-spies                             17577.0  11429450.0\n",
       "       brooklyn                                  6664193.0    872240.0\n",
       "       mad-max                                    214324.0    745860.0\n",
       "       room                                      2188924.0    715296.0\n",
       "       spotlight                                  342528.0   3714190.0\n",
       "       the-big-short                               87069.0   4551189.0\n",
       "       the-martian                                502045.0   3171685.0\n",
       "       the-revenant                                    NaN   3013756.0\n",
       "2017   call-me-by-your-name                       274791.0   4198512.0\n",
       "       darkest-hour                               113299.0   5005481.0\n",
       "       dunkirk                                         NaN    545399.0\n",
       "       get-out                                    324212.0   1287685.0\n",
       "       lady-bird                                 6347439.0   1248697.0\n",
       "       phantom-thread                             839757.0   3459992.0\n",
       "       the-post                                  1323706.0  10660603.0\n",
       "       the-shape-of-water                         375853.0   4010549.0\n",
       "       three-billboards-outside-ebbing-missouri  1085440.0   1567842.0"
      ]
     },
     "execution_count": 188,
     "metadata": {},
     "output_type": "execute_result"
    }
   ],
   "source": [
    "# Explore wordcount by film & gender \n",
    "wordcount = joined_data_two.groupby(['year_x','film_x','gender']).agg({'words':['sum']}).unstack()\n",
    "wordcount"
   ]
  },
  {
   "cell_type": "code",
   "execution_count": 186,
   "metadata": {},
   "outputs": [
    {
     "data": {
      "text/html": [
       "<div>\n",
       "<style scoped>\n",
       "    .dataframe tbody tr th:only-of-type {\n",
       "        vertical-align: middle;\n",
       "    }\n",
       "\n",
       "    .dataframe tbody tr th {\n",
       "        vertical-align: top;\n",
       "    }\n",
       "\n",
       "    .dataframe thead th {\n",
       "        text-align: right;\n",
       "    }\n",
       "</style>\n",
       "<table border=\"1\" class=\"dataframe\">\n",
       "  <thead>\n",
       "    <tr style=\"text-align: right;\">\n",
       "      <th></th>\n",
       "      <th>year</th>\n",
       "      <th>1989</th>\n",
       "      <th>2015</th>\n",
       "      <th>2017</th>\n",
       "    </tr>\n",
       "    <tr>\n",
       "      <th>gender</th>\n",
       "      <th>race</th>\n",
       "      <th></th>\n",
       "      <th></th>\n",
       "      <th></th>\n",
       "    </tr>\n",
       "  </thead>\n",
       "  <tbody>\n",
       "    <tr>\n",
       "      <td rowspan=\"5\" valign=\"top\">female</td>\n",
       "      <td>2+ Race</td>\n",
       "      <td>NaN</td>\n",
       "      <td>150.0</td>\n",
       "      <td>111.0</td>\n",
       "    </tr>\n",
       "    <tr>\n",
       "      <td>Asian</td>\n",
       "      <td>NaN</td>\n",
       "      <td>48.0</td>\n",
       "      <td>NaN</td>\n",
       "    </tr>\n",
       "    <tr>\n",
       "      <td>Black/African American</td>\n",
       "      <td>70.0</td>\n",
       "      <td>63.0</td>\n",
       "      <td>356.0</td>\n",
       "    </tr>\n",
       "    <tr>\n",
       "      <td>Hispanic/Latino</td>\n",
       "      <td>NaN</td>\n",
       "      <td>44.0</td>\n",
       "      <td>30.0</td>\n",
       "    </tr>\n",
       "    <tr>\n",
       "      <td>White/Caucasian</td>\n",
       "      <td>1585.0</td>\n",
       "      <td>5187.0</td>\n",
       "      <td>5378.0</td>\n",
       "    </tr>\n",
       "    <tr>\n",
       "      <td rowspan=\"5\" valign=\"top\">male</td>\n",
       "      <td>2+ Race</td>\n",
       "      <td>NaN</td>\n",
       "      <td>98.0</td>\n",
       "      <td>95.0</td>\n",
       "    </tr>\n",
       "    <tr>\n",
       "      <td>Asian</td>\n",
       "      <td>NaN</td>\n",
       "      <td>146.0</td>\n",
       "      <td>NaN</td>\n",
       "    </tr>\n",
       "    <tr>\n",
       "      <td>Black/African American</td>\n",
       "      <td>967.0</td>\n",
       "      <td>403.0</td>\n",
       "      <td>675.0</td>\n",
       "    </tr>\n",
       "    <tr>\n",
       "      <td>Hispanic/Latino</td>\n",
       "      <td>NaN</td>\n",
       "      <td>142.0</td>\n",
       "      <td>NaN</td>\n",
       "    </tr>\n",
       "    <tr>\n",
       "      <td>White/Caucasian</td>\n",
       "      <td>5333.0</td>\n",
       "      <td>18873.0</td>\n",
       "      <td>21343.0</td>\n",
       "    </tr>\n",
       "  </tbody>\n",
       "</table>\n",
       "</div>"
      ],
      "text/plain": [
       "year                             1989     2015     2017\n",
       "gender race                                            \n",
       "female 2+ Race                    NaN    150.0    111.0\n",
       "       Asian                      NaN     48.0      NaN\n",
       "       Black/African American    70.0     63.0    356.0\n",
       "       Hispanic/Latino            NaN     44.0     30.0\n",
       "       White/Caucasian         1585.0   5187.0   5378.0\n",
       "male   2+ Race                    NaN     98.0     95.0\n",
       "       Asian                      NaN    146.0      NaN\n",
       "       Black/African American   967.0    403.0    675.0\n",
       "       Hispanic/Latino            NaN    142.0      NaN\n",
       "       White/Caucasian         5333.0  18873.0  21343.0"
      ]
     },
     "execution_count": 186,
     "metadata": {},
     "output_type": "execute_result"
    }
   ],
   "source": [
    "# Pivot table \n",
    "joined_data_two.pivot_table(columns='year',index=['gender','race'],values='words',aggfunc='count')"
   ]
  },
  {
   "cell_type": "code",
   "execution_count": 137,
   "metadata": {},
   "outputs": [],
   "source": [
    "# Import necessary libraries for models & visualization  \n",
    "import matplotlib.pyplot as plt\n",
    "import seaborn as sns\n",
    "import numpy as np\n",
    "from sklearn.model_selection import train_test_split"
   ]
  },
  {
   "cell_type": "code",
   "execution_count": 138,
   "metadata": {},
   "outputs": [
    {
     "data": {
      "text/plain": [
       "OneHotEncoder(categorical_features=None, categories=None, drop=None,\n",
       "              dtype=<class 'numpy.float64'>, handle_unknown='error',\n",
       "              n_values=None, sparse=False)"
      ]
     },
     "execution_count": 138,
     "metadata": {},
     "output_type": "execute_result"
    }
   ],
   "source": [
    "# Transform gender from categorical variable to number via one-hot encoding  \n",
    "cat_cols_gender = joined_data_two[['gender']]\n",
    "from sklearn.preprocessing import OneHotEncoder\n",
    "encoder = OneHotEncoder(sparse=False)\n",
    "encoder.fit(cat_cols_gender)"
   ]
  },
  {
   "cell_type": "code",
   "execution_count": 139,
   "metadata": {},
   "outputs": [
    {
     "data": {
      "text/plain": [
       "array([[0., 1.],\n",
       "       [0., 1.],\n",
       "       [0., 1.],\n",
       "       ...,\n",
       "       [0., 1.],\n",
       "       [0., 1.],\n",
       "       [0., 1.]])"
      ]
     },
     "execution_count": 139,
     "metadata": {},
     "output_type": "execute_result"
    }
   ],
   "source": [
    "cat_cols_1hot=encoder.transform(cat_cols_gender)\n",
    "cat_cols_1hot"
   ]
  },
  {
   "cell_type": "code",
   "execution_count": 140,
   "metadata": {},
   "outputs": [
    {
     "data": {
      "text/html": [
       "<div>\n",
       "<style scoped>\n",
       "    .dataframe tbody tr th:only-of-type {\n",
       "        vertical-align: middle;\n",
       "    }\n",
       "\n",
       "    .dataframe tbody tr th {\n",
       "        vertical-align: top;\n",
       "    }\n",
       "\n",
       "    .dataframe thead th {\n",
       "        text-align: right;\n",
       "    }\n",
       "</style>\n",
       "<table border=\"1\" class=\"dataframe\">\n",
       "  <thead>\n",
       "    <tr style=\"text-align: right;\">\n",
       "      <th></th>\n",
       "      <th>x0_female</th>\n",
       "      <th>x0_male</th>\n",
       "    </tr>\n",
       "  </thead>\n",
       "  <tbody>\n",
       "    <tr>\n",
       "      <td>0</td>\n",
       "      <td>0.0</td>\n",
       "      <td>1.0</td>\n",
       "    </tr>\n",
       "    <tr>\n",
       "      <td>1</td>\n",
       "      <td>0.0</td>\n",
       "      <td>1.0</td>\n",
       "    </tr>\n",
       "    <tr>\n",
       "      <td>2</td>\n",
       "      <td>0.0</td>\n",
       "      <td>1.0</td>\n",
       "    </tr>\n",
       "    <tr>\n",
       "      <td>3</td>\n",
       "      <td>0.0</td>\n",
       "      <td>1.0</td>\n",
       "    </tr>\n",
       "    <tr>\n",
       "      <td>4</td>\n",
       "      <td>0.0</td>\n",
       "      <td>1.0</td>\n",
       "    </tr>\n",
       "    <tr>\n",
       "      <td>...</td>\n",
       "      <td>...</td>\n",
       "      <td>...</td>\n",
       "    </tr>\n",
       "    <tr>\n",
       "      <td>61092</td>\n",
       "      <td>0.0</td>\n",
       "      <td>1.0</td>\n",
       "    </tr>\n",
       "    <tr>\n",
       "      <td>61093</td>\n",
       "      <td>0.0</td>\n",
       "      <td>1.0</td>\n",
       "    </tr>\n",
       "    <tr>\n",
       "      <td>61094</td>\n",
       "      <td>0.0</td>\n",
       "      <td>1.0</td>\n",
       "    </tr>\n",
       "    <tr>\n",
       "      <td>61095</td>\n",
       "      <td>0.0</td>\n",
       "      <td>1.0</td>\n",
       "    </tr>\n",
       "    <tr>\n",
       "      <td>61096</td>\n",
       "      <td>0.0</td>\n",
       "      <td>1.0</td>\n",
       "    </tr>\n",
       "  </tbody>\n",
       "</table>\n",
       "<p>61097 rows × 2 columns</p>\n",
       "</div>"
      ],
      "text/plain": [
       "       x0_female  x0_male\n",
       "0            0.0      1.0\n",
       "1            0.0      1.0\n",
       "2            0.0      1.0\n",
       "3            0.0      1.0\n",
       "4            0.0      1.0\n",
       "...          ...      ...\n",
       "61092        0.0      1.0\n",
       "61093        0.0      1.0\n",
       "61094        0.0      1.0\n",
       "61095        0.0      1.0\n",
       "61096        0.0      1.0\n",
       "\n",
       "[61097 rows x 2 columns]"
      ]
     },
     "execution_count": 140,
     "metadata": {},
     "output_type": "execute_result"
    }
   ],
   "source": [
    "cat_cols_1hot_df = pd.DataFrame(cat_cols_1hot,columns=encoder.get_feature_names())\n",
    "cat_cols_1hot_df"
   ]
  },
  {
   "cell_type": "code",
   "execution_count": 141,
   "metadata": {},
   "outputs": [
    {
     "data": {
      "text/html": [
       "<div>\n",
       "<style scoped>\n",
       "    .dataframe tbody tr th:only-of-type {\n",
       "        vertical-align: middle;\n",
       "    }\n",
       "\n",
       "    .dataframe tbody tr th {\n",
       "        vertical-align: top;\n",
       "    }\n",
       "\n",
       "    .dataframe thead th {\n",
       "        text-align: right;\n",
       "    }\n",
       "</style>\n",
       "<table border=\"1\" class=\"dataframe\">\n",
       "  <thead>\n",
       "    <tr style=\"text-align: right;\">\n",
       "      <th></th>\n",
       "      <th>year_x</th>\n",
       "      <th>film_x</th>\n",
       "      <th>actor</th>\n",
       "      <th>characters_x</th>\n",
       "      <th>imdb</th>\n",
       "      <th>race</th>\n",
       "      <th>race_simple</th>\n",
       "      <th>words</th>\n",
       "      <th>sentences</th>\n",
       "      <th>year_y</th>\n",
       "      <th>...</th>\n",
       "      <th>character</th>\n",
       "      <th>word</th>\n",
       "      <th>count</th>\n",
       "      <th>year</th>\n",
       "      <th>film</th>\n",
       "      <th>characters_y</th>\n",
       "      <th>Birthyear</th>\n",
       "      <th>AgeDuringFilm</th>\n",
       "      <th>x0_female</th>\n",
       "      <th>x0_male</th>\n",
       "    </tr>\n",
       "  </thead>\n",
       "  <tbody>\n",
       "    <tr>\n",
       "      <td>0</td>\n",
       "      <td>1989</td>\n",
       "      <td>born-on-the-fourth-of-july</td>\n",
       "      <td>Dale Dye</td>\n",
       "      <td>COLONEL</td>\n",
       "      <td>http://www.imdb.com/name/nm0245653/</td>\n",
       "      <td>White/Caucasian</td>\n",
       "      <td>White</td>\n",
       "      <td>216.0</td>\n",
       "      <td>15.0</td>\n",
       "      <td>1989</td>\n",
       "      <td>...</td>\n",
       "      <td>COLONEL</td>\n",
       "      <td>'bout</td>\n",
       "      <td>1</td>\n",
       "      <td>1989</td>\n",
       "      <td>born-on-the-fourth-of-july</td>\n",
       "      <td>COLONEL</td>\n",
       "      <td>1944</td>\n",
       "      <td>45</td>\n",
       "      <td>0.0</td>\n",
       "      <td>1.0</td>\n",
       "    </tr>\n",
       "    <tr>\n",
       "      <td>1</td>\n",
       "      <td>1989</td>\n",
       "      <td>born-on-the-fourth-of-july</td>\n",
       "      <td>Dale Dye</td>\n",
       "      <td>COLONEL</td>\n",
       "      <td>http://www.imdb.com/name/nm0245653/</td>\n",
       "      <td>White/Caucasian</td>\n",
       "      <td>White</td>\n",
       "      <td>216.0</td>\n",
       "      <td>15.0</td>\n",
       "      <td>1989</td>\n",
       "      <td>...</td>\n",
       "      <td>COLONEL</td>\n",
       "      <td>82nd</td>\n",
       "      <td>1</td>\n",
       "      <td>1989</td>\n",
       "      <td>born-on-the-fourth-of-july</td>\n",
       "      <td>COLONEL</td>\n",
       "      <td>1944</td>\n",
       "      <td>45</td>\n",
       "      <td>0.0</td>\n",
       "      <td>1.0</td>\n",
       "    </tr>\n",
       "    <tr>\n",
       "      <td>2</td>\n",
       "      <td>1989</td>\n",
       "      <td>born-on-the-fourth-of-july</td>\n",
       "      <td>Dale Dye</td>\n",
       "      <td>COLONEL</td>\n",
       "      <td>http://www.imdb.com/name/nm0245653/</td>\n",
       "      <td>White/Caucasian</td>\n",
       "      <td>White</td>\n",
       "      <td>216.0</td>\n",
       "      <td>15.0</td>\n",
       "      <td>1989</td>\n",
       "      <td>...</td>\n",
       "      <td>COLONEL</td>\n",
       "      <td>airborne</td>\n",
       "      <td>1</td>\n",
       "      <td>1989</td>\n",
       "      <td>born-on-the-fourth-of-july</td>\n",
       "      <td>COLONEL</td>\n",
       "      <td>1944</td>\n",
       "      <td>45</td>\n",
       "      <td>0.0</td>\n",
       "      <td>1.0</td>\n",
       "    </tr>\n",
       "    <tr>\n",
       "      <td>3</td>\n",
       "      <td>1989</td>\n",
       "      <td>born-on-the-fourth-of-july</td>\n",
       "      <td>Dale Dye</td>\n",
       "      <td>COLONEL</td>\n",
       "      <td>http://www.imdb.com/name/nm0245653/</td>\n",
       "      <td>White/Caucasian</td>\n",
       "      <td>White</td>\n",
       "      <td>216.0</td>\n",
       "      <td>15.0</td>\n",
       "      <td>1989</td>\n",
       "      <td>...</td>\n",
       "      <td>COLONEL</td>\n",
       "      <td>answer</td>\n",
       "      <td>1</td>\n",
       "      <td>1989</td>\n",
       "      <td>born-on-the-fourth-of-july</td>\n",
       "      <td>COLONEL</td>\n",
       "      <td>1944</td>\n",
       "      <td>45</td>\n",
       "      <td>0.0</td>\n",
       "      <td>1.0</td>\n",
       "    </tr>\n",
       "    <tr>\n",
       "      <td>4</td>\n",
       "      <td>1989</td>\n",
       "      <td>born-on-the-fourth-of-july</td>\n",
       "      <td>Dale Dye</td>\n",
       "      <td>COLONEL</td>\n",
       "      <td>http://www.imdb.com/name/nm0245653/</td>\n",
       "      <td>White/Caucasian</td>\n",
       "      <td>White</td>\n",
       "      <td>216.0</td>\n",
       "      <td>15.0</td>\n",
       "      <td>1989</td>\n",
       "      <td>...</td>\n",
       "      <td>COLONEL</td>\n",
       "      <td>arty</td>\n",
       "      <td>1</td>\n",
       "      <td>1989</td>\n",
       "      <td>born-on-the-fourth-of-july</td>\n",
       "      <td>COLONEL</td>\n",
       "      <td>1944</td>\n",
       "      <td>45</td>\n",
       "      <td>0.0</td>\n",
       "      <td>1.0</td>\n",
       "    </tr>\n",
       "  </tbody>\n",
       "</table>\n",
       "<p>5 rows × 21 columns</p>\n",
       "</div>"
      ],
      "text/plain": [
       "   year_x                      film_x     actor characters_x  \\\n",
       "0    1989  born-on-the-fourth-of-july  Dale Dye      COLONEL   \n",
       "1    1989  born-on-the-fourth-of-july  Dale Dye      COLONEL   \n",
       "2    1989  born-on-the-fourth-of-july  Dale Dye      COLONEL   \n",
       "3    1989  born-on-the-fourth-of-july  Dale Dye      COLONEL   \n",
       "4    1989  born-on-the-fourth-of-july  Dale Dye      COLONEL   \n",
       "\n",
       "                                  imdb             race race_simple  words  \\\n",
       "0  http://www.imdb.com/name/nm0245653/  White/Caucasian       White  216.0   \n",
       "1  http://www.imdb.com/name/nm0245653/  White/Caucasian       White  216.0   \n",
       "2  http://www.imdb.com/name/nm0245653/  White/Caucasian       White  216.0   \n",
       "3  http://www.imdb.com/name/nm0245653/  White/Caucasian       White  216.0   \n",
       "4  http://www.imdb.com/name/nm0245653/  White/Caucasian       White  216.0   \n",
       "\n",
       "   sentences  year_y  ... character      word count  year  \\\n",
       "0       15.0    1989  ...   COLONEL     'bout     1  1989   \n",
       "1       15.0    1989  ...   COLONEL      82nd     1  1989   \n",
       "2       15.0    1989  ...   COLONEL  airborne     1  1989   \n",
       "3       15.0    1989  ...   COLONEL    answer     1  1989   \n",
       "4       15.0    1989  ...   COLONEL      arty     1  1989   \n",
       "\n",
       "                         film characters_y Birthyear  AgeDuringFilm  \\\n",
       "0  born-on-the-fourth-of-july      COLONEL      1944             45   \n",
       "1  born-on-the-fourth-of-july      COLONEL      1944             45   \n",
       "2  born-on-the-fourth-of-july      COLONEL      1944             45   \n",
       "3  born-on-the-fourth-of-july      COLONEL      1944             45   \n",
       "4  born-on-the-fourth-of-july      COLONEL      1944             45   \n",
       "\n",
       "   x0_female  x0_male  \n",
       "0        0.0      1.0  \n",
       "1        0.0      1.0  \n",
       "2        0.0      1.0  \n",
       "3        0.0      1.0  \n",
       "4        0.0      1.0  \n",
       "\n",
       "[5 rows x 21 columns]"
      ]
     },
     "execution_count": 141,
     "metadata": {},
     "output_type": "execute_result"
    }
   ],
   "source": [
    "datav2 = pd.concat([joined_data_two.drop(['gender'],axis=1),cat_cols_1hot_df],axis=1)\n",
    "datav2.head()"
   ]
  },
  {
   "cell_type": "code",
   "execution_count": 288,
   "metadata": {},
   "outputs": [
    {
     "data": {
      "text/html": [
       "<div>\n",
       "<style scoped>\n",
       "    .dataframe tbody tr th:only-of-type {\n",
       "        vertical-align: middle;\n",
       "    }\n",
       "\n",
       "    .dataframe tbody tr th {\n",
       "        vertical-align: top;\n",
       "    }\n",
       "\n",
       "    .dataframe thead th {\n",
       "        text-align: right;\n",
       "    }\n",
       "</style>\n",
       "<table border=\"1\" class=\"dataframe\">\n",
       "  <thead>\n",
       "    <tr style=\"text-align: right;\">\n",
       "      <th>race</th>\n",
       "      <th>2+ Race</th>\n",
       "      <th>Asian</th>\n",
       "      <th>Black/African American</th>\n",
       "      <th>Hispanic/Latino</th>\n",
       "      <th>White/Caucasian</th>\n",
       "    </tr>\n",
       "    <tr>\n",
       "      <th>year</th>\n",
       "      <th></th>\n",
       "      <th></th>\n",
       "      <th></th>\n",
       "      <th></th>\n",
       "      <th></th>\n",
       "    </tr>\n",
       "  </thead>\n",
       "  <tbody>\n",
       "    <tr>\n",
       "      <td>1989</td>\n",
       "      <td>0.0</td>\n",
       "      <td>0.0</td>\n",
       "      <td>1037.0</td>\n",
       "      <td>0.0</td>\n",
       "      <td>6918.0</td>\n",
       "    </tr>\n",
       "    <tr>\n",
       "      <td>2015</td>\n",
       "      <td>248.0</td>\n",
       "      <td>194.0</td>\n",
       "      <td>466.0</td>\n",
       "      <td>186.0</td>\n",
       "      <td>24060.0</td>\n",
       "    </tr>\n",
       "    <tr>\n",
       "      <td>2017</td>\n",
       "      <td>206.0</td>\n",
       "      <td>0.0</td>\n",
       "      <td>1031.0</td>\n",
       "      <td>30.0</td>\n",
       "      <td>26721.0</td>\n",
       "    </tr>\n",
       "  </tbody>\n",
       "</table>\n",
       "</div>"
      ],
      "text/plain": [
       "race  2+ Race  Asian  Black/African American  Hispanic/Latino  White/Caucasian\n",
       "year                                                                          \n",
       "1989      0.0    0.0                  1037.0              0.0           6918.0\n",
       "2015    248.0  194.0                   466.0            186.0          24060.0\n",
       "2017    206.0    0.0                  1031.0             30.0          26721.0"
      ]
     },
     "execution_count": 288,
     "metadata": {},
     "output_type": "execute_result"
    }
   ],
   "source": [
    "# race percent \n",
    "racepercent = joined_data_two.pivot_table(index=['year'],columns=['race'],values='words',aggfunc='count')\n",
    "racepercent.fillna(0,inplace=True)\n",
    "racepercent.head()"
   ]
  },
  {
   "cell_type": "code",
   "execution_count": 289,
   "metadata": {},
   "outputs": [
    {
     "data": {
      "text/html": [
       "<div>\n",
       "<style scoped>\n",
       "    .dataframe tbody tr th:only-of-type {\n",
       "        vertical-align: middle;\n",
       "    }\n",
       "\n",
       "    .dataframe tbody tr th {\n",
       "        vertical-align: top;\n",
       "    }\n",
       "\n",
       "    .dataframe thead th {\n",
       "        text-align: right;\n",
       "    }\n",
       "</style>\n",
       "<table border=\"1\" class=\"dataframe\">\n",
       "  <thead>\n",
       "    <tr style=\"text-align: right;\">\n",
       "      <th>race</th>\n",
       "      <th>2+ Race</th>\n",
       "      <th>Asian</th>\n",
       "      <th>Black/African American</th>\n",
       "      <th>Hispanic/Latino</th>\n",
       "      <th>White/Caucasian</th>\n",
       "      <th>WhitePercent</th>\n",
       "      <th>AllElsePercent</th>\n",
       "    </tr>\n",
       "    <tr>\n",
       "      <th>year</th>\n",
       "      <th></th>\n",
       "      <th></th>\n",
       "      <th></th>\n",
       "      <th></th>\n",
       "      <th></th>\n",
       "      <th></th>\n",
       "      <th></th>\n",
       "    </tr>\n",
       "  </thead>\n",
       "  <tbody>\n",
       "    <tr>\n",
       "      <td>1989</td>\n",
       "      <td>0.0</td>\n",
       "      <td>0.0</td>\n",
       "      <td>1037.0</td>\n",
       "      <td>0.0</td>\n",
       "      <td>6918.0</td>\n",
       "      <td>86.964173</td>\n",
       "      <td>13.035827</td>\n",
       "    </tr>\n",
       "    <tr>\n",
       "      <td>2015</td>\n",
       "      <td>248.0</td>\n",
       "      <td>194.0</td>\n",
       "      <td>466.0</td>\n",
       "      <td>186.0</td>\n",
       "      <td>24060.0</td>\n",
       "      <td>95.650791</td>\n",
       "      <td>4.349209</td>\n",
       "    </tr>\n",
       "    <tr>\n",
       "      <td>2017</td>\n",
       "      <td>206.0</td>\n",
       "      <td>0.0</td>\n",
       "      <td>1031.0</td>\n",
       "      <td>30.0</td>\n",
       "      <td>26721.0</td>\n",
       "      <td>95.473060</td>\n",
       "      <td>4.526940</td>\n",
       "    </tr>\n",
       "  </tbody>\n",
       "</table>\n",
       "</div>"
      ],
      "text/plain": [
       "race  2+ Race  Asian  Black/African American  Hispanic/Latino  \\\n",
       "year                                                            \n",
       "1989      0.0    0.0                  1037.0              0.0   \n",
       "2015    248.0  194.0                   466.0            186.0   \n",
       "2017    206.0    0.0                  1031.0             30.0   \n",
       "\n",
       "race  White/Caucasian  WhitePercent  AllElsePercent  \n",
       "year                                                 \n",
       "1989           6918.0     86.964173       13.035827  \n",
       "2015          24060.0     95.650791        4.349209  \n",
       "2017          26721.0     95.473060        4.526940  "
      ]
     },
     "execution_count": 289,
     "metadata": {},
     "output_type": "execute_result"
    }
   ],
   "source": [
    "racepercent['WhitePercent'] = racepercent['White/Caucasian'] / (racepercent['2+ Race'] + racepercent['Asian'] + racepercent['Black/African American'] + racepercent['Hispanic/Latino'] + racepercent['White/Caucasian']) *100\n",
    "\n",
    "racepercent['AllElsePercent'] = (racepercent['2+ Race'] + racepercent['Asian'] + racepercent['Black/African American'] + racepercent['Hispanic/Latino']) / (racepercent['2+ Race'] + racepercent['Asian'] + racepercent['Black/African American'] + racepercent['Hispanic/Latino'] + racepercent['White/Caucasian']) * 100\n",
    "racepercent.head()"
   ]
  },
  {
   "cell_type": "code",
   "execution_count": 290,
   "metadata": {},
   "outputs": [
    {
     "data": {
      "text/html": [
       "<div>\n",
       "<style scoped>\n",
       "    .dataframe tbody tr th:only-of-type {\n",
       "        vertical-align: middle;\n",
       "    }\n",
       "\n",
       "    .dataframe tbody tr th {\n",
       "        vertical-align: top;\n",
       "    }\n",
       "\n",
       "    .dataframe thead th {\n",
       "        text-align: right;\n",
       "    }\n",
       "</style>\n",
       "<table border=\"1\" class=\"dataframe\">\n",
       "  <thead>\n",
       "    <tr style=\"text-align: right;\">\n",
       "      <th></th>\n",
       "      <th>gender</th>\n",
       "      <th>female</th>\n",
       "      <th>male</th>\n",
       "    </tr>\n",
       "    <tr>\n",
       "      <th>year</th>\n",
       "      <th>film_x</th>\n",
       "      <th></th>\n",
       "      <th></th>\n",
       "    </tr>\n",
       "  </thead>\n",
       "  <tbody>\n",
       "    <tr>\n",
       "      <td rowspan=\"5\" valign=\"top\">1989</td>\n",
       "      <td>born-on-the-fourth-of-july</td>\n",
       "      <td>106.0</td>\n",
       "      <td>1031.0</td>\n",
       "    </tr>\n",
       "    <tr>\n",
       "      <td>dead-poets-society</td>\n",
       "      <td>35.0</td>\n",
       "      <td>1119.0</td>\n",
       "    </tr>\n",
       "    <tr>\n",
       "      <td>driving-miss-daisy</td>\n",
       "      <td>728.0</td>\n",
       "      <td>1052.0</td>\n",
       "    </tr>\n",
       "    <tr>\n",
       "      <td>field-of-dreams</td>\n",
       "      <td>427.0</td>\n",
       "      <td>1351.0</td>\n",
       "    </tr>\n",
       "    <tr>\n",
       "      <td>my-left-foot</td>\n",
       "      <td>359.0</td>\n",
       "      <td>1053.0</td>\n",
       "    </tr>\n",
       "  </tbody>\n",
       "</table>\n",
       "</div>"
      ],
      "text/plain": [
       "gender                           female    male\n",
       "year film_x                                    \n",
       "1989 born-on-the-fourth-of-july   106.0  1031.0\n",
       "     dead-poets-society            35.0  1119.0\n",
       "     driving-miss-daisy           728.0  1052.0\n",
       "     field-of-dreams              427.0  1351.0\n",
       "     my-left-foot                 359.0  1053.0"
      ]
     },
     "execution_count": 290,
     "metadata": {},
     "output_type": "execute_result"
    }
   ],
   "source": [
    "# add percent column \n",
    "genderpercent = joined_data_two.pivot_table(index=['year','film_x'],columns=['gender'],values='words',aggfunc='count')\n",
    "genderpercent.fillna(0,inplace=True)\n",
    "genderpercent.head()"
   ]
  },
  {
   "cell_type": "code",
   "execution_count": 291,
   "metadata": {},
   "outputs": [],
   "source": [
    "genderpercent['malePercent'] = genderpercent['male'] / (genderpercent['male'] + genderpercent['female'])*100\n",
    "genderpercent['femalePercent'] = genderpercent['female'] / (genderpercent['male'] + genderpercent['female'])*100"
   ]
  },
  {
   "cell_type": "code",
   "execution_count": 292,
   "metadata": {},
   "outputs": [],
   "source": [
    "genderpercent2 = joined_data_two.pivot_table(index=['year'],columns=['gender'],values='words',aggfunc='count')\n",
    "genderpercent2.fillna(0,inplace=True)\n",
    "genderpercent2['malePercent'] = genderpercent2['male'] / (genderpercent2['male'] + genderpercent2['female'])*100\n",
    "genderpercent2['femalePercent'] = genderpercent2['female'] / (genderpercent2['male'] + genderpercent2['female'])*100"
   ]
  },
  {
   "cell_type": "code",
   "execution_count": 293,
   "metadata": {},
   "outputs": [
    {
     "data": {
      "text/plain": [
       "0    216.0\n",
       "1    216.0\n",
       "2    216.0\n",
       "3    216.0\n",
       "4    216.0\n",
       "Name: words, dtype: float64"
      ]
     },
     "execution_count": 293,
     "metadata": {},
     "output_type": "execute_result"
    }
   ],
   "source": [
    "# Model gender, age, & year film \n",
    "y = datav2['words']\n",
    "y.head()"
   ]
  },
  {
   "cell_type": "code",
   "execution_count": 294,
   "metadata": {},
   "outputs": [
    {
     "data": {
      "text/html": [
       "<div>\n",
       "<style scoped>\n",
       "    .dataframe tbody tr th:only-of-type {\n",
       "        vertical-align: middle;\n",
       "    }\n",
       "\n",
       "    .dataframe tbody tr th {\n",
       "        vertical-align: top;\n",
       "    }\n",
       "\n",
       "    .dataframe thead th {\n",
       "        text-align: right;\n",
       "    }\n",
       "</style>\n",
       "<table border=\"1\" class=\"dataframe\">\n",
       "  <thead>\n",
       "    <tr style=\"text-align: right;\">\n",
       "      <th></th>\n",
       "      <th>AgeDuringFilm</th>\n",
       "      <th>x0_female</th>\n",
       "      <th>x0_male</th>\n",
       "      <th>year</th>\n",
       "    </tr>\n",
       "  </thead>\n",
       "  <tbody>\n",
       "    <tr>\n",
       "      <td>0</td>\n",
       "      <td>45</td>\n",
       "      <td>0.0</td>\n",
       "      <td>1.0</td>\n",
       "      <td>1989</td>\n",
       "    </tr>\n",
       "    <tr>\n",
       "      <td>1</td>\n",
       "      <td>45</td>\n",
       "      <td>0.0</td>\n",
       "      <td>1.0</td>\n",
       "      <td>1989</td>\n",
       "    </tr>\n",
       "    <tr>\n",
       "      <td>2</td>\n",
       "      <td>45</td>\n",
       "      <td>0.0</td>\n",
       "      <td>1.0</td>\n",
       "      <td>1989</td>\n",
       "    </tr>\n",
       "    <tr>\n",
       "      <td>3</td>\n",
       "      <td>45</td>\n",
       "      <td>0.0</td>\n",
       "      <td>1.0</td>\n",
       "      <td>1989</td>\n",
       "    </tr>\n",
       "    <tr>\n",
       "      <td>4</td>\n",
       "      <td>45</td>\n",
       "      <td>0.0</td>\n",
       "      <td>1.0</td>\n",
       "      <td>1989</td>\n",
       "    </tr>\n",
       "  </tbody>\n",
       "</table>\n",
       "</div>"
      ],
      "text/plain": [
       "   AgeDuringFilm  x0_female  x0_male  year\n",
       "0             45        0.0      1.0  1989\n",
       "1             45        0.0      1.0  1989\n",
       "2             45        0.0      1.0  1989\n",
       "3             45        0.0      1.0  1989\n",
       "4             45        0.0      1.0  1989"
      ]
     },
     "execution_count": 294,
     "metadata": {},
     "output_type": "execute_result"
    }
   ],
   "source": [
    "X = datav2[['AgeDuringFilm','x0_female','x0_male','year']]\n",
    "X.head()"
   ]
  },
  {
   "cell_type": "code",
   "execution_count": 295,
   "metadata": {},
   "outputs": [],
   "source": [
    "Xtrain,Xtest,ytrain,ytest=train_test_split(X,y,random_state=649)"
   ]
  },
  {
   "cell_type": "code",
   "execution_count": 296,
   "metadata": {},
   "outputs": [
    {
     "data": {
      "text/plain": [
       "37431    2491.0\n",
       "49132     471.0\n",
       "35770    1137.0\n",
       "32038    1338.0\n",
       "3459     3343.0\n",
       "          ...  \n",
       "9947      178.0\n",
       "1467      801.0\n",
       "25875    1538.0\n",
       "57520    2783.0\n",
       "19643    3357.0\n",
       "Name: words, Length: 15275, dtype: float64"
      ]
     },
     "execution_count": 296,
     "metadata": {},
     "output_type": "execute_result"
    }
   ],
   "source": [
    "Xtest.fillna(Xtest.mean())\n",
    "Xtrain.fillna(Xtrain.mean())\n",
    "ytrain.fillna(ytrain.mean())\n",
    "ytest.fillna(ytest.mean())"
   ]
  },
  {
   "cell_type": "code",
   "execution_count": 297,
   "metadata": {},
   "outputs": [
    {
     "data": {
      "text/plain": [
       "30699    1163.0\n",
       "36898    1895.0\n",
       "30613    1163.0\n",
       "54822    1406.0\n",
       "24800     492.0\n",
       "Name: words, dtype: float64"
      ]
     },
     "execution_count": 297,
     "metadata": {},
     "output_type": "execute_result"
    }
   ],
   "source": [
    "ytrain.head()"
   ]
  },
  {
   "cell_type": "code",
   "execution_count": 298,
   "metadata": {},
   "outputs": [
    {
     "data": {
      "text/plain": [
       "37431    2491.0\n",
       "49132     471.0\n",
       "35770    1137.0\n",
       "32038    1338.0\n",
       "3459     3343.0\n",
       "Name: words, dtype: float64"
      ]
     },
     "execution_count": 298,
     "metadata": {},
     "output_type": "execute_result"
    }
   ],
   "source": [
    "ytest.head()"
   ]
  },
  {
   "cell_type": "code",
   "execution_count": 299,
   "metadata": {},
   "outputs": [
    {
     "data": {
      "text/html": [
       "<div>\n",
       "<style scoped>\n",
       "    .dataframe tbody tr th:only-of-type {\n",
       "        vertical-align: middle;\n",
       "    }\n",
       "\n",
       "    .dataframe tbody tr th {\n",
       "        vertical-align: top;\n",
       "    }\n",
       "\n",
       "    .dataframe thead th {\n",
       "        text-align: right;\n",
       "    }\n",
       "</style>\n",
       "<table border=\"1\" class=\"dataframe\">\n",
       "  <thead>\n",
       "    <tr style=\"text-align: right;\">\n",
       "      <th></th>\n",
       "      <th>AgeDuringFilm</th>\n",
       "      <th>x0_female</th>\n",
       "      <th>x0_male</th>\n",
       "      <th>year</th>\n",
       "    </tr>\n",
       "  </thead>\n",
       "  <tbody>\n",
       "    <tr>\n",
       "      <td>30699</td>\n",
       "      <td>48</td>\n",
       "      <td>0.0</td>\n",
       "      <td>1.0</td>\n",
       "      <td>2015</td>\n",
       "    </tr>\n",
       "    <tr>\n",
       "      <td>36898</td>\n",
       "      <td>35</td>\n",
       "      <td>0.0</td>\n",
       "      <td>1.0</td>\n",
       "      <td>2015</td>\n",
       "    </tr>\n",
       "    <tr>\n",
       "      <td>30613</td>\n",
       "      <td>48</td>\n",
       "      <td>0.0</td>\n",
       "      <td>1.0</td>\n",
       "      <td>2015</td>\n",
       "    </tr>\n",
       "    <tr>\n",
       "      <td>54822</td>\n",
       "      <td>62</td>\n",
       "      <td>1.0</td>\n",
       "      <td>0.0</td>\n",
       "      <td>2017</td>\n",
       "    </tr>\n",
       "    <tr>\n",
       "      <td>24800</td>\n",
       "      <td>38</td>\n",
       "      <td>0.0</td>\n",
       "      <td>1.0</td>\n",
       "      <td>2015</td>\n",
       "    </tr>\n",
       "  </tbody>\n",
       "</table>\n",
       "</div>"
      ],
      "text/plain": [
       "       AgeDuringFilm  x0_female  x0_male  year\n",
       "30699             48        0.0      1.0  2015\n",
       "36898             35        0.0      1.0  2015\n",
       "30613             48        0.0      1.0  2015\n",
       "54822             62        1.0      0.0  2017\n",
       "24800             38        0.0      1.0  2015"
      ]
     },
     "execution_count": 299,
     "metadata": {},
     "output_type": "execute_result"
    }
   ],
   "source": [
    "Xtrain.head()"
   ]
  },
  {
   "cell_type": "code",
   "execution_count": 300,
   "metadata": {},
   "outputs": [
    {
     "data": {
      "text/html": [
       "<div>\n",
       "<style scoped>\n",
       "    .dataframe tbody tr th:only-of-type {\n",
       "        vertical-align: middle;\n",
       "    }\n",
       "\n",
       "    .dataframe tbody tr th {\n",
       "        vertical-align: top;\n",
       "    }\n",
       "\n",
       "    .dataframe thead th {\n",
       "        text-align: right;\n",
       "    }\n",
       "</style>\n",
       "<table border=\"1\" class=\"dataframe\">\n",
       "  <thead>\n",
       "    <tr style=\"text-align: right;\">\n",
       "      <th></th>\n",
       "      <th>AgeDuringFilm</th>\n",
       "      <th>x0_female</th>\n",
       "      <th>x0_male</th>\n",
       "      <th>year</th>\n",
       "    </tr>\n",
       "  </thead>\n",
       "  <tbody>\n",
       "    <tr>\n",
       "      <td>37431</td>\n",
       "      <td>53</td>\n",
       "      <td>0.0</td>\n",
       "      <td>1.0</td>\n",
       "      <td>2015</td>\n",
       "    </tr>\n",
       "    <tr>\n",
       "      <td>49132</td>\n",
       "      <td>22</td>\n",
       "      <td>0.0</td>\n",
       "      <td>1.0</td>\n",
       "      <td>2017</td>\n",
       "    </tr>\n",
       "    <tr>\n",
       "      <td>35770</td>\n",
       "      <td>32</td>\n",
       "      <td>0.0</td>\n",
       "      <td>1.0</td>\n",
       "      <td>2015</td>\n",
       "    </tr>\n",
       "    <tr>\n",
       "      <td>32038</td>\n",
       "      <td>37</td>\n",
       "      <td>1.0</td>\n",
       "      <td>0.0</td>\n",
       "      <td>2015</td>\n",
       "    </tr>\n",
       "    <tr>\n",
       "      <td>3459</td>\n",
       "      <td>52</td>\n",
       "      <td>0.0</td>\n",
       "      <td>1.0</td>\n",
       "      <td>1989</td>\n",
       "    </tr>\n",
       "  </tbody>\n",
       "</table>\n",
       "</div>"
      ],
      "text/plain": [
       "       AgeDuringFilm  x0_female  x0_male  year\n",
       "37431             53        0.0      1.0  2015\n",
       "49132             22        0.0      1.0  2017\n",
       "35770             32        0.0      1.0  2015\n",
       "32038             37        1.0      0.0  2015\n",
       "3459              52        0.0      1.0  1989"
      ]
     },
     "execution_count": 300,
     "metadata": {},
     "output_type": "execute_result"
    }
   ],
   "source": [
    "Xtest.head()"
   ]
  },
  {
   "cell_type": "code",
   "execution_count": 301,
   "metadata": {},
   "outputs": [
    {
     "data": {
      "text/plain": [
       "(45822, 4)"
      ]
     },
     "execution_count": 301,
     "metadata": {},
     "output_type": "execute_result"
    }
   ],
   "source": [
    "Xtrain.shape"
   ]
  },
  {
   "cell_type": "code",
   "execution_count": 302,
   "metadata": {},
   "outputs": [
    {
     "data": {
      "text/plain": [
       "(15275, 4)"
      ]
     },
     "execution_count": 302,
     "metadata": {},
     "output_type": "execute_result"
    }
   ],
   "source": [
    "Xtest.shape"
   ]
  },
  {
   "cell_type": "code",
   "execution_count": 303,
   "metadata": {},
   "outputs": [
    {
     "data": {
      "text/plain": [
       "(45822,)"
      ]
     },
     "execution_count": 303,
     "metadata": {},
     "output_type": "execute_result"
    }
   ],
   "source": [
    "ytrain.shape"
   ]
  },
  {
   "cell_type": "code",
   "execution_count": 304,
   "metadata": {},
   "outputs": [
    {
     "data": {
      "text/plain": [
       "(15275,)"
      ]
     },
     "execution_count": 304,
     "metadata": {},
     "output_type": "execute_result"
    }
   ],
   "source": [
    "ytest.shape"
   ]
  },
  {
   "cell_type": "code",
   "execution_count": 305,
   "metadata": {},
   "outputs": [],
   "source": [
    "from sklearn.linear_model import LinearRegression"
   ]
  },
  {
   "cell_type": "code",
   "execution_count": 306,
   "metadata": {},
   "outputs": [
    {
     "data": {
      "text/plain": [
       "LinearRegression(copy_X=True, fit_intercept=True, n_jobs=None, normalize=False)"
      ]
     },
     "execution_count": 306,
     "metadata": {},
     "output_type": "execute_result"
    }
   ],
   "source": [
    "model_gender = LinearRegression(fit_intercept=True)\n",
    "model_gender"
   ]
  },
  {
   "cell_type": "code",
   "execution_count": 307,
   "metadata": {},
   "outputs": [
    {
     "data": {
      "text/plain": [
       "LinearRegression(copy_X=True, fit_intercept=True, n_jobs=None, normalize=False)"
      ]
     },
     "execution_count": 307,
     "metadata": {},
     "output_type": "execute_result"
    }
   ],
   "source": [
    "model_gender.fit(Xtrain,ytrain)\n",
    "model_gender"
   ]
  },
  {
   "cell_type": "code",
   "execution_count": 308,
   "metadata": {},
   "outputs": [
    {
     "data": {
      "text/plain": [
       "0.03856180408646237"
      ]
     },
     "execution_count": 308,
     "metadata": {},
     "output_type": "execute_result"
    }
   ],
   "source": [
    "model_gender.score(Xtest,ytest)"
   ]
  },
  {
   "cell_type": "code",
   "execution_count": 309,
   "metadata": {},
   "outputs": [],
   "source": [
    "# Visualize the data \n",
    "females = datav2.loc[datav2['x0_female'] == 1]\n",
    "males = datav2.loc[datav2['x0_female'] == 0]"
   ]
  },
  {
   "cell_type": "code",
   "execution_count": 310,
   "metadata": {},
   "outputs": [
    {
     "data": {
      "text/plain": [
       "'three-billboards-outside-ebbing-missouri'"
      ]
     },
     "execution_count": 310,
     "metadata": {},
     "output_type": "execute_result"
    }
   ],
   "source": [
    "females['film_x'].max()"
   ]
  },
  {
   "cell_type": "code",
   "execution_count": 311,
   "metadata": {},
   "outputs": [
    {
     "data": {
      "text/html": [
       "<div>\n",
       "<style scoped>\n",
       "    .dataframe tbody tr th:only-of-type {\n",
       "        vertical-align: middle;\n",
       "    }\n",
       "\n",
       "    .dataframe tbody tr th {\n",
       "        vertical-align: top;\n",
       "    }\n",
       "\n",
       "    .dataframe thead th {\n",
       "        text-align: right;\n",
       "    }\n",
       "</style>\n",
       "<table border=\"1\" class=\"dataframe\">\n",
       "  <thead>\n",
       "    <tr style=\"text-align: right;\">\n",
       "      <th></th>\n",
       "      <th>gender</th>\n",
       "      <th>female</th>\n",
       "      <th>male</th>\n",
       "      <th>malePercent</th>\n",
       "      <th>femalePercent</th>\n",
       "    </tr>\n",
       "    <tr>\n",
       "      <th>year</th>\n",
       "      <th>film_x</th>\n",
       "      <th></th>\n",
       "      <th></th>\n",
       "      <th></th>\n",
       "      <th></th>\n",
       "    </tr>\n",
       "  </thead>\n",
       "  <tbody>\n",
       "    <tr>\n",
       "      <td rowspan=\"5\" valign=\"top\">1989</td>\n",
       "      <td>born-on-the-fourth-of-july</td>\n",
       "      <td>106.0</td>\n",
       "      <td>1031.0</td>\n",
       "      <td>90.677221</td>\n",
       "      <td>9.322779</td>\n",
       "    </tr>\n",
       "    <tr>\n",
       "      <td>dead-poets-society</td>\n",
       "      <td>35.0</td>\n",
       "      <td>1119.0</td>\n",
       "      <td>96.967071</td>\n",
       "      <td>3.032929</td>\n",
       "    </tr>\n",
       "    <tr>\n",
       "      <td>driving-miss-daisy</td>\n",
       "      <td>728.0</td>\n",
       "      <td>1052.0</td>\n",
       "      <td>59.101124</td>\n",
       "      <td>40.898876</td>\n",
       "    </tr>\n",
       "    <tr>\n",
       "      <td>field-of-dreams</td>\n",
       "      <td>427.0</td>\n",
       "      <td>1351.0</td>\n",
       "      <td>75.984252</td>\n",
       "      <td>24.015748</td>\n",
       "    </tr>\n",
       "    <tr>\n",
       "      <td>my-left-foot</td>\n",
       "      <td>359.0</td>\n",
       "      <td>1053.0</td>\n",
       "      <td>74.575071</td>\n",
       "      <td>25.424929</td>\n",
       "    </tr>\n",
       "  </tbody>\n",
       "</table>\n",
       "</div>"
      ],
      "text/plain": [
       "gender                           female    male  malePercent  femalePercent\n",
       "year film_x                                                                \n",
       "1989 born-on-the-fourth-of-july   106.0  1031.0    90.677221       9.322779\n",
       "     dead-poets-society            35.0  1119.0    96.967071       3.032929\n",
       "     driving-miss-daisy           728.0  1052.0    59.101124      40.898876\n",
       "     field-of-dreams              427.0  1351.0    75.984252      24.015748\n",
       "     my-left-foot                 359.0  1053.0    74.575071      25.424929"
      ]
     },
     "execution_count": 311,
     "metadata": {},
     "output_type": "execute_result"
    }
   ],
   "source": [
    "genderpercent.head()"
   ]
  },
  {
   "cell_type": "code",
   "execution_count": 313,
   "metadata": {},
   "outputs": [
    {
     "data": {
      "text/plain": [
       "{'whiskers': [<matplotlib.lines.Line2D at 0x15c4fd9fe48>,\n",
       "  <matplotlib.lines.Line2D at 0x15c4fd9ff48>],\n",
       " 'caps': [<matplotlib.lines.Line2D at 0x15c4fd9ffc8>,\n",
       "  <matplotlib.lines.Line2D at 0x15c45c16ec8>],\n",
       " 'boxes': [<matplotlib.lines.Line2D at 0x15c4fd9f7c8>],\n",
       " 'medians': [<matplotlib.lines.Line2D at 0x15c45c16fc8>],\n",
       " 'fliers': [<matplotlib.lines.Line2D at 0x15c45c1cb08>],\n",
       " 'means': []}"
      ]
     },
     "execution_count": 313,
     "metadata": {},
     "output_type": "execute_result"
    },
    {
     "data": {
      "image/png": "[encoded data removed]",
      "text/plain": [
       "<Figure size 432x288 with 1 Axes>"
      ]
     },
     "metadata": {},
     "output_type": "display_data"
    }
   ],
   "source": [
    "plt.boxplot('words',data=females)"
   ]
  },
  {
   "cell_type": "code",
   "execution_count": null,
   "metadata": {},
   "outputs": [],
   "source": []
  },
  {
   "cell_type": "code",
   "execution_count": 314,
   "metadata": {},
   "outputs": [
    {
     "data": {
      "text/plain": [
       "{'whiskers': [<matplotlib.lines.Line2D at 0x15c45c7d548>,\n",
       "  <matplotlib.lines.Line2D at 0x15c45c74f48>],\n",
       " 'caps': [<matplotlib.lines.Line2D at 0x15c45c7df08>,\n",
       "  <matplotlib.lines.Line2D at 0x15c45c7dc48>],\n",
       " 'boxes': [<matplotlib.lines.Line2D at 0x15c45c74d48>],\n",
       " 'medians': [<matplotlib.lines.Line2D at 0x15c45c82b48>],\n",
       " 'fliers': [<matplotlib.lines.Line2D at 0x15c45c82f48>],\n",
       " 'means': []}"
      ]
     },
     "execution_count": 314,
     "metadata": {},
     "output_type": "execute_result"
    },
    {
     "data": {
      "image/png": "[encoded data removed]",
      "text/plain": [
       "<Figure size 432x288 with 1 Axes>"
      ]
     },
     "metadata": {},
     "output_type": "display_data"
    }
   ],
   "source": [
    "plt.boxplot('words',data=males)"
   ]
  },
  {
   "cell_type": "code",
   "execution_count": 315,
   "metadata": {},
   "outputs": [
    {
     "data": {
      "text/plain": [
       "<seaborn.axisgrid.PairGrid at 0x15c45c9ed88>"
      ]
     },
     "execution_count": 315,
     "metadata": {},
     "output_type": "execute_result"
    },
    {
     "data": {
      "image/png": "[encoded data removed]",
      "text/plain": [
       "<Figure size 540x540 with 12 Axes>"
      ]
     },
     "metadata": {},
     "output_type": "display_data"
    }
   ],
   "source": [
    "sns.pairplot(datav2, vars=['words','race','AgeDuringFilm'])"
   ]
  },
  {
   "cell_type": "code",
   "execution_count": 316,
   "metadata": {},
   "outputs": [
    {
     "data": {
      "text/html": [
       "<div>\n",
       "<style scoped>\n",
       "    .dataframe tbody tr th:only-of-type {\n",
       "        vertical-align: middle;\n",
       "    }\n",
       "\n",
       "    .dataframe tbody tr th {\n",
       "        vertical-align: top;\n",
       "    }\n",
       "\n",
       "    .dataframe thead th {\n",
       "        text-align: right;\n",
       "    }\n",
       "</style>\n",
       "<table border=\"1\" class=\"dataframe\">\n",
       "  <thead>\n",
       "    <tr style=\"text-align: right;\">\n",
       "      <th>gender</th>\n",
       "      <th>female</th>\n",
       "      <th>male</th>\n",
       "    </tr>\n",
       "    <tr>\n",
       "      <th>year</th>\n",
       "      <th></th>\n",
       "      <th></th>\n",
       "    </tr>\n",
       "  </thead>\n",
       "  <tbody>\n",
       "    <tr>\n",
       "      <td>1989</td>\n",
       "      <td>1655</td>\n",
       "      <td>6300</td>\n",
       "    </tr>\n",
       "    <tr>\n",
       "      <td>2015</td>\n",
       "      <td>5492</td>\n",
       "      <td>19662</td>\n",
       "    </tr>\n",
       "    <tr>\n",
       "      <td>2017</td>\n",
       "      <td>5875</td>\n",
       "      <td>22113</td>\n",
       "    </tr>\n",
       "  </tbody>\n",
       "</table>\n",
       "</div>"
      ],
      "text/plain": [
       "gender  female   male\n",
       "year                 \n",
       "1989      1655   6300\n",
       "2015      5492  19662\n",
       "2017      5875  22113"
      ]
     },
     "execution_count": 316,
     "metadata": {},
     "output_type": "execute_result"
    }
   ],
   "source": [
    "graph1 = joined_data_two.pivot_table(index='year',columns=['gender'],values='words',aggfunc='count')\n",
    "graph1"
   ]
  },
  {
   "cell_type": "code",
   "execution_count": 317,
   "metadata": {},
   "outputs": [
    {
     "data": {
      "text/plain": [
       "Text(0.5, 1.0, 'Total Words Spoken by Men vs. Women in Best Picture Films')"
      ]
     },
     "execution_count": 317,
     "metadata": {},
     "output_type": "execute_result"
    },
    {
     "data": {
      "image/png": "[encoded data removed]",
      "text/plain": [
       "<Figure size 432x288 with 1 Axes>"
      ]
     },
     "metadata": {},
     "output_type": "display_data"
    }
   ],
   "source": [
    "plt.plot(graph1)\n",
    "plt.ylabel('Total Word Count')\n",
    "plt.xlabel('Year Best Picture Oscar Won')\n",
    "plt.title('Total Words Spoken by Men vs. Women in Best Picture Films')"
   ]
  },
  {
   "cell_type": "code",
   "execution_count": 327,
   "metadata": {},
   "outputs": [
    {
     "data": {
      "text/plain": [
       "Text(0.5, 1.0, 'Total Words Spoken by Women in Best Picture Films')"
      ]
     },
     "execution_count": 327,
     "metadata": {},
     "output_type": "execute_result"
    },
    {
     "data": {
      "image/png": "[encoded data removed]",
      "text/plain": [
       "<Figure size 432x288 with 1 Axes>"
      ]
     },
     "metadata": {},
     "output_type": "display_data"
    }
   ],
   "source": [
    "graph2 = females.pivot_table(index='year',columns=['race'],values='words',aggfunc='count')\n",
    "graph2.plot()\n",
    "plt.ylabel('Total Word Count')\n",
    "plt.xlabel('Year Best Picture Oscar Won')\n",
    "plt.title('Total Words Spoken by Women in Best Picture Films')"
   ]
  },
  {
   "cell_type": "code",
   "execution_count": 328,
   "metadata": {},
   "outputs": [
    {
     "data": {
      "text/plain": [
       "Text(0.5, 1.0, 'Total Words Spoken by Men in Best Picture Films')"
      ]
     },
     "execution_count": 328,
     "metadata": {},
     "output_type": "execute_result"
    },
    {
     "data": {
      "image/png": "[encoded data removed]",
      "text/plain": [
       "<Figure size 432x288 with 1 Axes>"
      ]
     },
     "metadata": {},
     "output_type": "display_data"
    }
   ],
   "source": [
    "graph2 = males.pivot_table(index='year',columns=['race'],values='words',aggfunc='count')\n",
    "graph2.plot()\n",
    "plt.ylabel('Total Word Count')\n",
    "plt.xlabel('Year Best Picture Oscar Won')\n",
    "plt.title('Total Words Spoken by Men in Best Picture Films')"
   ]
  },
  {
   "cell_type": "code",
   "execution_count": 320,
   "metadata": {},
   "outputs": [
    {
     "data": {
      "text/html": [
       "<div>\n",
       "<style scoped>\n",
       "    .dataframe tbody tr th:only-of-type {\n",
       "        vertical-align: middle;\n",
       "    }\n",
       "\n",
       "    .dataframe tbody tr th {\n",
       "        vertical-align: top;\n",
       "    }\n",
       "\n",
       "    .dataframe thead th {\n",
       "        text-align: right;\n",
       "    }\n",
       "</style>\n",
       "<table border=\"1\" class=\"dataframe\">\n",
       "  <thead>\n",
       "    <tr style=\"text-align: right;\">\n",
       "      <th>gender</th>\n",
       "      <th>female</th>\n",
       "      <th>male</th>\n",
       "      <th>malePercent</th>\n",
       "      <th>femalePercent</th>\n",
       "    </tr>\n",
       "    <tr>\n",
       "      <th>year</th>\n",
       "      <th></th>\n",
       "      <th></th>\n",
       "      <th></th>\n",
       "      <th></th>\n",
       "    </tr>\n",
       "  </thead>\n",
       "  <tbody>\n",
       "    <tr>\n",
       "      <td>1989</td>\n",
       "      <td>1655</td>\n",
       "      <td>6300</td>\n",
       "      <td>79.195475</td>\n",
       "      <td>20.804525</td>\n",
       "    </tr>\n",
       "    <tr>\n",
       "      <td>2015</td>\n",
       "      <td>5492</td>\n",
       "      <td>19662</td>\n",
       "      <td>78.166494</td>\n",
       "      <td>21.833506</td>\n",
       "    </tr>\n",
       "    <tr>\n",
       "      <td>2017</td>\n",
       "      <td>5875</td>\n",
       "      <td>22113</td>\n",
       "      <td>79.008861</td>\n",
       "      <td>20.991139</td>\n",
       "    </tr>\n",
       "  </tbody>\n",
       "</table>\n",
       "</div>"
      ],
      "text/plain": [
       "gender  female   male  malePercent  femalePercent\n",
       "year                                             \n",
       "1989      1655   6300    79.195475      20.804525\n",
       "2015      5492  19662    78.166494      21.833506\n",
       "2017      5875  22113    79.008861      20.991139"
      ]
     },
     "execution_count": 320,
     "metadata": {},
     "output_type": "execute_result"
    }
   ],
   "source": [
    "genderpercent2.head()"
   ]
  },
  {
   "cell_type": "code",
   "execution_count": 321,
   "metadata": {},
   "outputs": [
    {
     "data": {
      "text/html": [
       "<div>\n",
       "<style scoped>\n",
       "    .dataframe tbody tr th:only-of-type {\n",
       "        vertical-align: middle;\n",
       "    }\n",
       "\n",
       "    .dataframe tbody tr th {\n",
       "        vertical-align: top;\n",
       "    }\n",
       "\n",
       "    .dataframe thead th {\n",
       "        text-align: right;\n",
       "    }\n",
       "</style>\n",
       "<table border=\"1\" class=\"dataframe\">\n",
       "  <thead>\n",
       "    <tr style=\"text-align: right;\">\n",
       "      <th>race</th>\n",
       "      <th>2+ Race</th>\n",
       "      <th>Asian</th>\n",
       "      <th>Black/African American</th>\n",
       "      <th>Hispanic/Latino</th>\n",
       "      <th>White/Caucasian</th>\n",
       "      <th>WhitePercent</th>\n",
       "      <th>AllElsePercent</th>\n",
       "    </tr>\n",
       "    <tr>\n",
       "      <th>year</th>\n",
       "      <th></th>\n",
       "      <th></th>\n",
       "      <th></th>\n",
       "      <th></th>\n",
       "      <th></th>\n",
       "      <th></th>\n",
       "      <th></th>\n",
       "    </tr>\n",
       "  </thead>\n",
       "  <tbody>\n",
       "    <tr>\n",
       "      <td>1989</td>\n",
       "      <td>0.0</td>\n",
       "      <td>0.0</td>\n",
       "      <td>1037.0</td>\n",
       "      <td>0.0</td>\n",
       "      <td>6918.0</td>\n",
       "      <td>86.964173</td>\n",
       "      <td>13.035827</td>\n",
       "    </tr>\n",
       "    <tr>\n",
       "      <td>2015</td>\n",
       "      <td>248.0</td>\n",
       "      <td>194.0</td>\n",
       "      <td>466.0</td>\n",
       "      <td>186.0</td>\n",
       "      <td>24060.0</td>\n",
       "      <td>95.650791</td>\n",
       "      <td>4.349209</td>\n",
       "    </tr>\n",
       "    <tr>\n",
       "      <td>2017</td>\n",
       "      <td>206.0</td>\n",
       "      <td>0.0</td>\n",
       "      <td>1031.0</td>\n",
       "      <td>30.0</td>\n",
       "      <td>26721.0</td>\n",
       "      <td>95.473060</td>\n",
       "      <td>4.526940</td>\n",
       "    </tr>\n",
       "  </tbody>\n",
       "</table>\n",
       "</div>"
      ],
      "text/plain": [
       "race  2+ Race  Asian  Black/African American  Hispanic/Latino  \\\n",
       "year                                                            \n",
       "1989      0.0    0.0                  1037.0              0.0   \n",
       "2015    248.0  194.0                   466.0            186.0   \n",
       "2017    206.0    0.0                  1031.0             30.0   \n",
       "\n",
       "race  White/Caucasian  WhitePercent  AllElsePercent  \n",
       "year                                                 \n",
       "1989           6918.0     86.964173       13.035827  \n",
       "2015          24060.0     95.650791        4.349209  \n",
       "2017          26721.0     95.473060        4.526940  "
      ]
     },
     "execution_count": 321,
     "metadata": {},
     "output_type": "execute_result"
    }
   ],
   "source": [
    "racepercent.head()"
   ]
  },
  {
   "cell_type": "code",
   "execution_count": 322,
   "metadata": {},
   "outputs": [
    {
     "data": {
      "text/html": [
       "<div>\n",
       "<style scoped>\n",
       "    .dataframe tbody tr th:only-of-type {\n",
       "        vertical-align: middle;\n",
       "    }\n",
       "\n",
       "    .dataframe tbody tr th {\n",
       "        vertical-align: top;\n",
       "    }\n",
       "\n",
       "    .dataframe thead th {\n",
       "        text-align: right;\n",
       "    }\n",
       "</style>\n",
       "<table border=\"1\" class=\"dataframe\">\n",
       "  <thead>\n",
       "    <tr style=\"text-align: right;\">\n",
       "      <th>gender</th>\n",
       "      <th>malePercent</th>\n",
       "      <th>femalePercent</th>\n",
       "    </tr>\n",
       "    <tr>\n",
       "      <th>year</th>\n",
       "      <th></th>\n",
       "      <th></th>\n",
       "    </tr>\n",
       "  </thead>\n",
       "  <tbody>\n",
       "    <tr>\n",
       "      <td>1989</td>\n",
       "      <td>79.195475</td>\n",
       "      <td>20.804525</td>\n",
       "    </tr>\n",
       "    <tr>\n",
       "      <td>2015</td>\n",
       "      <td>78.166494</td>\n",
       "      <td>21.833506</td>\n",
       "    </tr>\n",
       "    <tr>\n",
       "      <td>2017</td>\n",
       "      <td>79.008861</td>\n",
       "      <td>20.991139</td>\n",
       "    </tr>\n",
       "  </tbody>\n",
       "</table>\n",
       "</div>"
      ],
      "text/plain": [
       "gender  malePercent  femalePercent\n",
       "year                              \n",
       "1989      79.195475      20.804525\n",
       "2015      78.166494      21.833506\n",
       "2017      79.008861      20.991139"
      ]
     },
     "execution_count": 322,
     "metadata": {},
     "output_type": "execute_result"
    }
   ],
   "source": [
    "genderpercent3 = genderpercent2.drop(columns=['female','male'])\n",
    "genderpercent3.head()"
   ]
  },
  {
   "cell_type": "code",
   "execution_count": 323,
   "metadata": {},
   "outputs": [
    {
     "data": {
      "text/html": [
       "<div>\n",
       "<style scoped>\n",
       "    .dataframe tbody tr th:only-of-type {\n",
       "        vertical-align: middle;\n",
       "    }\n",
       "\n",
       "    .dataframe tbody tr th {\n",
       "        vertical-align: top;\n",
       "    }\n",
       "\n",
       "    .dataframe thead th {\n",
       "        text-align: right;\n",
       "    }\n",
       "</style>\n",
       "<table border=\"1\" class=\"dataframe\">\n",
       "  <thead>\n",
       "    <tr style=\"text-align: right;\">\n",
       "      <th></th>\n",
       "      <th>malePercent</th>\n",
       "      <th>femalePercent</th>\n",
       "      <th>WhitePercent</th>\n",
       "      <th>AllElsePercent</th>\n",
       "    </tr>\n",
       "    <tr>\n",
       "      <th>year</th>\n",
       "      <th></th>\n",
       "      <th></th>\n",
       "      <th></th>\n",
       "      <th></th>\n",
       "    </tr>\n",
       "  </thead>\n",
       "  <tbody>\n",
       "    <tr>\n",
       "      <td>1989</td>\n",
       "      <td>79.195475</td>\n",
       "      <td>20.804525</td>\n",
       "      <td>86.964173</td>\n",
       "      <td>13.035827</td>\n",
       "    </tr>\n",
       "    <tr>\n",
       "      <td>2015</td>\n",
       "      <td>78.166494</td>\n",
       "      <td>21.833506</td>\n",
       "      <td>95.650791</td>\n",
       "      <td>4.349209</td>\n",
       "    </tr>\n",
       "    <tr>\n",
       "      <td>2017</td>\n",
       "      <td>79.008861</td>\n",
       "      <td>20.991139</td>\n",
       "      <td>95.473060</td>\n",
       "      <td>4.526940</td>\n",
       "    </tr>\n",
       "  </tbody>\n",
       "</table>\n",
       "</div>"
      ],
      "text/plain": [
       "      malePercent  femalePercent  WhitePercent  AllElsePercent\n",
       "year                                                          \n",
       "1989    79.195475      20.804525     86.964173       13.035827\n",
       "2015    78.166494      21.833506     95.650791        4.349209\n",
       "2017    79.008861      20.991139     95.473060        4.526940"
      ]
     },
     "execution_count": 323,
     "metadata": {},
     "output_type": "execute_result"
    }
   ],
   "source": [
    "allpercent = pd.merge(genderpercent3,racepercent,on='year')\n",
    "newallpercent = allpercent.drop(columns=['2+ Race','Asian','Black/African American','Hispanic/Latino','White/Caucasian'])\n",
    "newallpercent"
   ]
  },
  {
   "cell_type": "code",
   "execution_count": 343,
   "metadata": {},
   "outputs": [
    {
     "data": {
      "text/plain": [
       "Text(0.5, 1.0, 'Percent of Words Spoken Best Picture Films')"
      ]
     },
     "execution_count": 343,
     "metadata": {},
     "output_type": "execute_result"
    },
    {
     "data": {
      "image/png": "[encoded data removed]",
      "text/plain": [
       "<Figure size 432x288 with 1 Axes>"
      ]
     },
     "metadata": {},
     "output_type": "display_data"
    }
   ],
   "source": [
    "newallpercent.plot.bar()\n",
    "plt.ylabel('Percent of Word Count')\n",
    "plt.xlabel('Year Best Picture Oscar Won')\n",
    "plt.title('Percent of Words Spoken Best Picture Films')"
   ]
  },
  {
   "cell_type": "code",
   "execution_count": 330,
   "metadata": {},
   "outputs": [
    {
     "data": {
      "text/plain": [
       "Text(0.5, 1.0, 'Percent of Words Spoken Best Picture Films')"
      ]
     },
     "execution_count": 330,
     "metadata": {},
     "output_type": "execute_result"
    },
    {
     "data": {
      "image/png": "[encoded data removed]",
      "text/plain": [
       "<Figure size 432x288 with 1 Axes>"
      ]
     },
     "metadata": {},
     "output_type": "display_data"
    }
   ],
   "source": [
    "newallpercent.plot()\n",
    "plt.ylabel('Percent of Word Count')\n",
    "plt.xlabel('Year Best Picture Oscar Won')\n",
    "plt.title('Percent of Words Spoken Best Picture Films')"
   ]
  },
  {
   "cell_type": "code",
   "execution_count": null,
   "metadata": {},
   "outputs": [],
   "source": []
  }
 ],
 "metadata": {
  "kernelspec": {
   "display_name": "Python 3",
   "language": "python",
   "name": "python3"
  },
  "language_info": {
   "codemirror_mode": {
    "name": "ipython",
    "version": 3
   },
   "file_extension": ".py",
   "mimetype": "text/x-python",
   "name": "python",
   "nbconvert_exporter": "python",
   "pygments_lexer": "ipython3",
   "version": "3.7.4"
  }
 },
 "nbformat": 4,
 "nbformat_minor": 4
}
