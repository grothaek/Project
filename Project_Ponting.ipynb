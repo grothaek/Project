{
 "cells": [
  {
   "cell_type": "code",
   "execution_count": 30,
   "metadata": {},
   "outputs": [],
   "source": [
    "#Liz Ponting \n",
    "# Project \n",
    "# Analysis of Word Count by gender and ethnicity for Oscars Best Picture.  Have the films become more diverse? \n",
    "\n",
    "#34 points needed \n",
    "# import (2), additional data set (1) create own dataset (2), join (4), groupby (3),statistical metrics (3), github push (6),plots (6), linear model (2), git commits (3) = 31 points\n",
    "\n",
    "# linear models (4), functions (2) - 9\n"
   ]
  },
  {
   "cell_type": "code",
   "execution_count": 31,
   "metadata": {},
   "outputs": [],
   "source": [
    "# Import the Actor (2 points) and Character Word Count files (1 point)\n",
    "import pandas as pd\n",
    "actor = pd.read_csv(r'C:\\Users\\Liz Ponting\\Desktop\\actor-metrics.csv')\n",
    "words = pd.read_csv(r'C:\\Users\\Liz Ponting\\Desktop\\character-word-counts.csv')\n",
    "\n",
    "# Created additional data set to determine if age is also a factor (2 points)\n",
    "age = pd.read_csv(r'C:\\Users\\Liz Ponting\\Desktop\\actor-birthdays.csv')"
   ]
  },
  {
   "cell_type": "code",
   "execution_count": 32,
   "metadata": {},
   "outputs": [
    {
     "data": {
      "text/html": [
       "<div>\n",
       "<style scoped>\n",
       "    .dataframe tbody tr th:only-of-type {\n",
       "        vertical-align: middle;\n",
       "    }\n",
       "\n",
       "    .dataframe tbody tr th {\n",
       "        vertical-align: top;\n",
       "    }\n",
       "\n",
       "    .dataframe thead th {\n",
       "        text-align: right;\n",
       "    }\n",
       "</style>\n",
       "<table border=\"1\" class=\"dataframe\">\n",
       "  <thead>\n",
       "    <tr style=\"text-align: right;\">\n",
       "      <th></th>\n",
       "      <th>year_x</th>\n",
       "      <th>film_x</th>\n",
       "      <th>actor</th>\n",
       "      <th>characters_x</th>\n",
       "      <th>imdb</th>\n",
       "      <th>gender</th>\n",
       "      <th>race</th>\n",
       "      <th>race_simple</th>\n",
       "      <th>words</th>\n",
       "      <th>sentences</th>\n",
       "      <th>year_y</th>\n",
       "      <th>film_y</th>\n",
       "      <th>character</th>\n",
       "      <th>word</th>\n",
       "      <th>count</th>\n",
       "      <th>year</th>\n",
       "      <th>film</th>\n",
       "      <th>characters_y</th>\n",
       "      <th>Birthyear</th>\n",
       "      <th>AgeDuringFilm</th>\n",
       "    </tr>\n",
       "  </thead>\n",
       "  <tbody>\n",
       "    <tr>\n",
       "      <td>0</td>\n",
       "      <td>1989</td>\n",
       "      <td>born-on-the-fourth-of-july</td>\n",
       "      <td>Dale Dye</td>\n",
       "      <td>COLONEL</td>\n",
       "      <td>http://www.imdb.com/name/nm0245653/</td>\n",
       "      <td>male</td>\n",
       "      <td>White/Caucasian</td>\n",
       "      <td>White</td>\n",
       "      <td>216.0</td>\n",
       "      <td>15.0</td>\n",
       "      <td>1989</td>\n",
       "      <td>born-on-the-fourth-of-july</td>\n",
       "      <td>COLONEL</td>\n",
       "      <td>'bout</td>\n",
       "      <td>1</td>\n",
       "      <td>1989</td>\n",
       "      <td>born-on-the-fourth-of-july</td>\n",
       "      <td>COLONEL</td>\n",
       "      <td>1944</td>\n",
       "      <td>45</td>\n",
       "    </tr>\n",
       "    <tr>\n",
       "      <td>1</td>\n",
       "      <td>1989</td>\n",
       "      <td>born-on-the-fourth-of-july</td>\n",
       "      <td>Dale Dye</td>\n",
       "      <td>COLONEL</td>\n",
       "      <td>http://www.imdb.com/name/nm0245653/</td>\n",
       "      <td>male</td>\n",
       "      <td>White/Caucasian</td>\n",
       "      <td>White</td>\n",
       "      <td>216.0</td>\n",
       "      <td>15.0</td>\n",
       "      <td>1989</td>\n",
       "      <td>born-on-the-fourth-of-july</td>\n",
       "      <td>COLONEL</td>\n",
       "      <td>82nd</td>\n",
       "      <td>1</td>\n",
       "      <td>1989</td>\n",
       "      <td>born-on-the-fourth-of-july</td>\n",
       "      <td>COLONEL</td>\n",
       "      <td>1944</td>\n",
       "      <td>45</td>\n",
       "    </tr>\n",
       "    <tr>\n",
       "      <td>2</td>\n",
       "      <td>1989</td>\n",
       "      <td>born-on-the-fourth-of-july</td>\n",
       "      <td>Dale Dye</td>\n",
       "      <td>COLONEL</td>\n",
       "      <td>http://www.imdb.com/name/nm0245653/</td>\n",
       "      <td>male</td>\n",
       "      <td>White/Caucasian</td>\n",
       "      <td>White</td>\n",
       "      <td>216.0</td>\n",
       "      <td>15.0</td>\n",
       "      <td>1989</td>\n",
       "      <td>born-on-the-fourth-of-july</td>\n",
       "      <td>COLONEL</td>\n",
       "      <td>airborne</td>\n",
       "      <td>1</td>\n",
       "      <td>1989</td>\n",
       "      <td>born-on-the-fourth-of-july</td>\n",
       "      <td>COLONEL</td>\n",
       "      <td>1944</td>\n",
       "      <td>45</td>\n",
       "    </tr>\n",
       "    <tr>\n",
       "      <td>3</td>\n",
       "      <td>1989</td>\n",
       "      <td>born-on-the-fourth-of-july</td>\n",
       "      <td>Dale Dye</td>\n",
       "      <td>COLONEL</td>\n",
       "      <td>http://www.imdb.com/name/nm0245653/</td>\n",
       "      <td>male</td>\n",
       "      <td>White/Caucasian</td>\n",
       "      <td>White</td>\n",
       "      <td>216.0</td>\n",
       "      <td>15.0</td>\n",
       "      <td>1989</td>\n",
       "      <td>born-on-the-fourth-of-july</td>\n",
       "      <td>COLONEL</td>\n",
       "      <td>answer</td>\n",
       "      <td>1</td>\n",
       "      <td>1989</td>\n",
       "      <td>born-on-the-fourth-of-july</td>\n",
       "      <td>COLONEL</td>\n",
       "      <td>1944</td>\n",
       "      <td>45</td>\n",
       "    </tr>\n",
       "    <tr>\n",
       "      <td>4</td>\n",
       "      <td>1989</td>\n",
       "      <td>born-on-the-fourth-of-july</td>\n",
       "      <td>Dale Dye</td>\n",
       "      <td>COLONEL</td>\n",
       "      <td>http://www.imdb.com/name/nm0245653/</td>\n",
       "      <td>male</td>\n",
       "      <td>White/Caucasian</td>\n",
       "      <td>White</td>\n",
       "      <td>216.0</td>\n",
       "      <td>15.0</td>\n",
       "      <td>1989</td>\n",
       "      <td>born-on-the-fourth-of-july</td>\n",
       "      <td>COLONEL</td>\n",
       "      <td>arty</td>\n",
       "      <td>1</td>\n",
       "      <td>1989</td>\n",
       "      <td>born-on-the-fourth-of-july</td>\n",
       "      <td>COLONEL</td>\n",
       "      <td>1944</td>\n",
       "      <td>45</td>\n",
       "    </tr>\n",
       "  </tbody>\n",
       "</table>\n",
       "</div>"
      ],
      "text/plain": [
       "   year_x                      film_x     actor characters_x  \\\n",
       "0    1989  born-on-the-fourth-of-july  Dale Dye      COLONEL   \n",
       "1    1989  born-on-the-fourth-of-july  Dale Dye      COLONEL   \n",
       "2    1989  born-on-the-fourth-of-july  Dale Dye      COLONEL   \n",
       "3    1989  born-on-the-fourth-of-july  Dale Dye      COLONEL   \n",
       "4    1989  born-on-the-fourth-of-july  Dale Dye      COLONEL   \n",
       "\n",
       "                                  imdb gender             race race_simple  \\\n",
       "0  http://www.imdb.com/name/nm0245653/   male  White/Caucasian       White   \n",
       "1  http://www.imdb.com/name/nm0245653/   male  White/Caucasian       White   \n",
       "2  http://www.imdb.com/name/nm0245653/   male  White/Caucasian       White   \n",
       "3  http://www.imdb.com/name/nm0245653/   male  White/Caucasian       White   \n",
       "4  http://www.imdb.com/name/nm0245653/   male  White/Caucasian       White   \n",
       "\n",
       "   words  sentences  year_y                      film_y character      word  \\\n",
       "0  216.0       15.0    1989  born-on-the-fourth-of-july   COLONEL     'bout   \n",
       "1  216.0       15.0    1989  born-on-the-fourth-of-july   COLONEL      82nd   \n",
       "2  216.0       15.0    1989  born-on-the-fourth-of-july   COLONEL  airborne   \n",
       "3  216.0       15.0    1989  born-on-the-fourth-of-july   COLONEL    answer   \n",
       "4  216.0       15.0    1989  born-on-the-fourth-of-july   COLONEL      arty   \n",
       "\n",
       "   count  year                        film characters_y  Birthyear  \\\n",
       "0      1  1989  born-on-the-fourth-of-july      COLONEL       1944   \n",
       "1      1  1989  born-on-the-fourth-of-july      COLONEL       1944   \n",
       "2      1  1989  born-on-the-fourth-of-july      COLONEL       1944   \n",
       "3      1  1989  born-on-the-fourth-of-july      COLONEL       1944   \n",
       "4      1  1989  born-on-the-fourth-of-july      COLONEL       1944   \n",
       "\n",
       "   AgeDuringFilm  \n",
       "0             45  \n",
       "1             45  \n",
       "2             45  \n",
       "3             45  \n",
       "4             45  "
      ]
     },
     "execution_count": 32,
     "metadata": {},
     "output_type": "execute_result"
    }
   ],
   "source": [
    "# Combine the three data sets using Join (4 points)\n",
    "joined_data_one = pd.merge(actor, words,on='actor')\n",
    "joined_data_two = pd.merge(joined_data_one,age,on='actor')\n",
    "joined_data_two.head()"
   ]
  },
  {
   "cell_type": "code",
   "execution_count": 92,
   "metadata": {},
   "outputs": [
    {
     "data": {
      "text/html": [
       "<div>\n",
       "<style scoped>\n",
       "    .dataframe tbody tr th:only-of-type {\n",
       "        vertical-align: middle;\n",
       "    }\n",
       "\n",
       "    .dataframe tbody tr th {\n",
       "        vertical-align: top;\n",
       "    }\n",
       "\n",
       "    .dataframe thead tr th {\n",
       "        text-align: left;\n",
       "    }\n",
       "\n",
       "    .dataframe thead tr:last-of-type th {\n",
       "        text-align: right;\n",
       "    }\n",
       "</style>\n",
       "<table border=\"1\" class=\"dataframe\">\n",
       "  <thead>\n",
       "    <tr>\n",
       "      <th></th>\n",
       "      <th></th>\n",
       "      <th colspan=\"3\" halign=\"left\">count</th>\n",
       "    </tr>\n",
       "    <tr>\n",
       "      <th></th>\n",
       "      <th></th>\n",
       "      <th>sum</th>\n",
       "      <th>mean</th>\n",
       "      <th>median</th>\n",
       "    </tr>\n",
       "    <tr>\n",
       "      <th>year_x</th>\n",
       "      <th>gender</th>\n",
       "      <th></th>\n",
       "      <th></th>\n",
       "      <th></th>\n",
       "    </tr>\n",
       "  </thead>\n",
       "  <tbody>\n",
       "    <tr>\n",
       "      <td rowspan=\"2\" valign=\"top\">1989</td>\n",
       "      <td>female</td>\n",
       "      <td>2546</td>\n",
       "      <td>1.538369</td>\n",
       "      <td>1</td>\n",
       "    </tr>\n",
       "    <tr>\n",
       "      <td>male</td>\n",
       "      <td>9615</td>\n",
       "      <td>1.526190</td>\n",
       "      <td>1</td>\n",
       "    </tr>\n",
       "    <tr>\n",
       "      <td rowspan=\"2\" valign=\"top\">2015</td>\n",
       "      <td>female</td>\n",
       "      <td>8161</td>\n",
       "      <td>1.485980</td>\n",
       "      <td>1</td>\n",
       "    </tr>\n",
       "    <tr>\n",
       "      <td>male</td>\n",
       "      <td>28067</td>\n",
       "      <td>1.427474</td>\n",
       "      <td>1</td>\n",
       "    </tr>\n",
       "    <tr>\n",
       "      <td rowspan=\"2\" valign=\"top\">2017</td>\n",
       "      <td>female</td>\n",
       "      <td>8710</td>\n",
       "      <td>1.482553</td>\n",
       "      <td>1</td>\n",
       "    </tr>\n",
       "    <tr>\n",
       "      <td>male</td>\n",
       "      <td>30664</td>\n",
       "      <td>1.386696</td>\n",
       "      <td>1</td>\n",
       "    </tr>\n",
       "  </tbody>\n",
       "</table>\n",
       "</div>"
      ],
      "text/plain": [
       "               count                 \n",
       "                 sum      mean median\n",
       "year_x gender                        \n",
       "1989   female   2546  1.538369      1\n",
       "       male     9615  1.526190      1\n",
       "2015   female   8161  1.485980      1\n",
       "       male    28067  1.427474      1\n",
       "2017   female   8710  1.482553      1\n",
       "       male    30664  1.386696      1"
      ]
     },
     "execution_count": 92,
     "metadata": {},
     "output_type": "execute_result"
    }
   ],
   "source": [
    "# Explore the data using group by functions  (3 points) \n",
    "# Statistical Metrics used here to learn about the data (1.5 point)\n",
    "joined_data_two.groupby(['year_x','gender']).agg({'count':['sum','mean','median']})"
   ]
  },
  {
   "cell_type": "code",
   "execution_count": 88,
   "metadata": {},
   "outputs": [
    {
     "data": {
      "text/html": [
       "<div>\n",
       "<style scoped>\n",
       "    .dataframe tbody tr th:only-of-type {\n",
       "        vertical-align: middle;\n",
       "    }\n",
       "\n",
       "    .dataframe tbody tr th {\n",
       "        vertical-align: top;\n",
       "    }\n",
       "\n",
       "    .dataframe thead tr th {\n",
       "        text-align: left;\n",
       "    }\n",
       "\n",
       "    .dataframe thead tr:last-of-type th {\n",
       "        text-align: right;\n",
       "    }\n",
       "</style>\n",
       "<table border=\"1\" class=\"dataframe\">\n",
       "  <thead>\n",
       "    <tr>\n",
       "      <th></th>\n",
       "      <th></th>\n",
       "      <th colspan=\"2\" halign=\"left\">words</th>\n",
       "    </tr>\n",
       "    <tr>\n",
       "      <th></th>\n",
       "      <th></th>\n",
       "      <th colspan=\"2\" halign=\"left\">sum</th>\n",
       "    </tr>\n",
       "    <tr>\n",
       "      <th></th>\n",
       "      <th>gender</th>\n",
       "      <th>female</th>\n",
       "      <th>male</th>\n",
       "    </tr>\n",
       "    <tr>\n",
       "      <th>year_x</th>\n",
       "      <th>film_x</th>\n",
       "      <th></th>\n",
       "      <th></th>\n",
       "    </tr>\n",
       "  </thead>\n",
       "  <tbody>\n",
       "    <tr>\n",
       "      <td rowspan=\"5\" valign=\"top\">1989</td>\n",
       "      <td>born-on-the-fourth-of-july</td>\n",
       "      <td>31608.0</td>\n",
       "      <td>787794.0</td>\n",
       "    </tr>\n",
       "    <tr>\n",
       "      <td>dead-poets-society</td>\n",
       "      <td>7735.0</td>\n",
       "      <td>702659.0</td>\n",
       "    </tr>\n",
       "    <tr>\n",
       "      <td>driving-miss-daisy</td>\n",
       "      <td>2408667.0</td>\n",
       "      <td>2888724.0</td>\n",
       "    </tr>\n",
       "    <tr>\n",
       "      <td>field-of-dreams</td>\n",
       "      <td>522436.0</td>\n",
       "      <td>3376923.0</td>\n",
       "    </tr>\n",
       "    <tr>\n",
       "      <td>my-left-foot</td>\n",
       "      <td>351071.0</td>\n",
       "      <td>1689185.0</td>\n",
       "    </tr>\n",
       "  </tbody>\n",
       "</table>\n",
       "</div>"
      ],
      "text/plain": [
       "                                       words           \n",
       "                                         sum           \n",
       "gender                                female       male\n",
       "year_x film_x                                          \n",
       "1989   born-on-the-fourth-of-july    31608.0   787794.0\n",
       "       dead-poets-society             7735.0   702659.0\n",
       "       driving-miss-daisy          2408667.0  2888724.0\n",
       "       field-of-dreams              522436.0  3376923.0\n",
       "       my-left-foot                 351071.0  1689185.0"
      ]
     },
     "execution_count": 88,
     "metadata": {},
     "output_type": "execute_result"
    }
   ],
   "source": [
    "# Explore wordcount by film & gender \n",
    "# Statistical Metric (0.5 point)\n",
    "wordcount = joined_data_two.groupby(['year_x','film_x','gender']).agg({'words':['sum']}).unstack()\n",
    "wordcount.head()"
   ]
  },
  {
   "cell_type": "code",
   "execution_count": 35,
   "metadata": {},
   "outputs": [
    {
     "data": {
      "text/html": [
       "<div>\n",
       "<style scoped>\n",
       "    .dataframe tbody tr th:only-of-type {\n",
       "        vertical-align: middle;\n",
       "    }\n",
       "\n",
       "    .dataframe tbody tr th {\n",
       "        vertical-align: top;\n",
       "    }\n",
       "\n",
       "    .dataframe thead th {\n",
       "        text-align: right;\n",
       "    }\n",
       "</style>\n",
       "<table border=\"1\" class=\"dataframe\">\n",
       "  <thead>\n",
       "    <tr style=\"text-align: right;\">\n",
       "      <th></th>\n",
       "      <th>year</th>\n",
       "      <th>1989</th>\n",
       "      <th>2015</th>\n",
       "      <th>2017</th>\n",
       "    </tr>\n",
       "    <tr>\n",
       "      <th>gender</th>\n",
       "      <th>race</th>\n",
       "      <th></th>\n",
       "      <th></th>\n",
       "      <th></th>\n",
       "    </tr>\n",
       "  </thead>\n",
       "  <tbody>\n",
       "    <tr>\n",
       "      <td rowspan=\"5\" valign=\"top\">female</td>\n",
       "      <td>2+ Race</td>\n",
       "      <td>NaN</td>\n",
       "      <td>150.0</td>\n",
       "      <td>111.0</td>\n",
       "    </tr>\n",
       "    <tr>\n",
       "      <td>Asian</td>\n",
       "      <td>NaN</td>\n",
       "      <td>48.0</td>\n",
       "      <td>NaN</td>\n",
       "    </tr>\n",
       "    <tr>\n",
       "      <td>Black/African American</td>\n",
       "      <td>70.0</td>\n",
       "      <td>63.0</td>\n",
       "      <td>356.0</td>\n",
       "    </tr>\n",
       "    <tr>\n",
       "      <td>Hispanic/Latino</td>\n",
       "      <td>NaN</td>\n",
       "      <td>44.0</td>\n",
       "      <td>30.0</td>\n",
       "    </tr>\n",
       "    <tr>\n",
       "      <td>White/Caucasian</td>\n",
       "      <td>1585.0</td>\n",
       "      <td>5187.0</td>\n",
       "      <td>5378.0</td>\n",
       "    </tr>\n",
       "    <tr>\n",
       "      <td rowspan=\"5\" valign=\"top\">male</td>\n",
       "      <td>2+ Race</td>\n",
       "      <td>NaN</td>\n",
       "      <td>98.0</td>\n",
       "      <td>95.0</td>\n",
       "    </tr>\n",
       "    <tr>\n",
       "      <td>Asian</td>\n",
       "      <td>NaN</td>\n",
       "      <td>146.0</td>\n",
       "      <td>NaN</td>\n",
       "    </tr>\n",
       "    <tr>\n",
       "      <td>Black/African American</td>\n",
       "      <td>967.0</td>\n",
       "      <td>403.0</td>\n",
       "      <td>675.0</td>\n",
       "    </tr>\n",
       "    <tr>\n",
       "      <td>Hispanic/Latino</td>\n",
       "      <td>NaN</td>\n",
       "      <td>142.0</td>\n",
       "      <td>NaN</td>\n",
       "    </tr>\n",
       "    <tr>\n",
       "      <td>White/Caucasian</td>\n",
       "      <td>5333.0</td>\n",
       "      <td>18873.0</td>\n",
       "      <td>21343.0</td>\n",
       "    </tr>\n",
       "  </tbody>\n",
       "</table>\n",
       "</div>"
      ],
      "text/plain": [
       "year                             1989     2015     2017\n",
       "gender race                                            \n",
       "female 2+ Race                    NaN    150.0    111.0\n",
       "       Asian                      NaN     48.0      NaN\n",
       "       Black/African American    70.0     63.0    356.0\n",
       "       Hispanic/Latino            NaN     44.0     30.0\n",
       "       White/Caucasian         1585.0   5187.0   5378.0\n",
       "male   2+ Race                    NaN     98.0     95.0\n",
       "       Asian                      NaN    146.0      NaN\n",
       "       Black/African American   967.0    403.0    675.0\n",
       "       Hispanic/Latino            NaN    142.0      NaN\n",
       "       White/Caucasian         5333.0  18873.0  21343.0"
      ]
     },
     "execution_count": 35,
     "metadata": {},
     "output_type": "execute_result"
    }
   ],
   "source": [
    "# Pivot table to explore data in a different way \n",
    "# Statistical metric (0.5 point)\n",
    "joined_data_two.pivot_table(columns='year',index=['gender','race'],values='words',aggfunc='count')"
   ]
  },
  {
   "cell_type": "code",
   "execution_count": 36,
   "metadata": {},
   "outputs": [
    {
     "data": {
      "text/html": [
       "<div>\n",
       "<style scoped>\n",
       "    .dataframe tbody tr th:only-of-type {\n",
       "        vertical-align: middle;\n",
       "    }\n",
       "\n",
       "    .dataframe tbody tr th {\n",
       "        vertical-align: top;\n",
       "    }\n",
       "\n",
       "    .dataframe thead th {\n",
       "        text-align: right;\n",
       "    }\n",
       "</style>\n",
       "<table border=\"1\" class=\"dataframe\">\n",
       "  <thead>\n",
       "    <tr style=\"text-align: right;\">\n",
       "      <th>race</th>\n",
       "      <th>2+ Race</th>\n",
       "      <th>Asian</th>\n",
       "      <th>Black/African American</th>\n",
       "      <th>Hispanic/Latino</th>\n",
       "      <th>White/Caucasian</th>\n",
       "      <th>WhitePercent</th>\n",
       "      <th>AllElsePercent</th>\n",
       "    </tr>\n",
       "    <tr>\n",
       "      <th>year</th>\n",
       "      <th></th>\n",
       "      <th></th>\n",
       "      <th></th>\n",
       "      <th></th>\n",
       "      <th></th>\n",
       "      <th></th>\n",
       "      <th></th>\n",
       "    </tr>\n",
       "  </thead>\n",
       "  <tbody>\n",
       "    <tr>\n",
       "      <td>1989</td>\n",
       "      <td>0.0</td>\n",
       "      <td>0.0</td>\n",
       "      <td>1037.0</td>\n",
       "      <td>0.0</td>\n",
       "      <td>6918.0</td>\n",
       "      <td>86.964173</td>\n",
       "      <td>13.035827</td>\n",
       "    </tr>\n",
       "    <tr>\n",
       "      <td>2015</td>\n",
       "      <td>248.0</td>\n",
       "      <td>194.0</td>\n",
       "      <td>466.0</td>\n",
       "      <td>186.0</td>\n",
       "      <td>24060.0</td>\n",
       "      <td>95.650791</td>\n",
       "      <td>4.349209</td>\n",
       "    </tr>\n",
       "    <tr>\n",
       "      <td>2017</td>\n",
       "      <td>206.0</td>\n",
       "      <td>0.0</td>\n",
       "      <td>1031.0</td>\n",
       "      <td>30.0</td>\n",
       "      <td>26721.0</td>\n",
       "      <td>95.473060</td>\n",
       "      <td>4.526940</td>\n",
       "    </tr>\n",
       "  </tbody>\n",
       "</table>\n",
       "</div>"
      ],
      "text/plain": [
       "race  2+ Race  Asian  Black/African American  Hispanic/Latino  \\\n",
       "year                                                            \n",
       "1989      0.0    0.0                  1037.0              0.0   \n",
       "2015    248.0  194.0                   466.0            186.0   \n",
       "2017    206.0    0.0                  1031.0             30.0   \n",
       "\n",
       "race  White/Caucasian  WhitePercent  AllElsePercent  \n",
       "year                                                 \n",
       "1989           6918.0     86.964173       13.035827  \n",
       "2015          24060.0     95.650791        4.349209  \n",
       "2017          26721.0     95.473060        4.526940  "
      ]
     },
     "execution_count": 36,
     "metadata": {},
     "output_type": "execute_result"
    }
   ],
   "source": [
    "# Calculate percentages in regards to the race of the actors in the films\n",
    "# Statistical metric (.5 points)\n",
    "\n",
    "racepercent = joined_data_two.pivot_table(index=['year'],columns=['race'],values='words',aggfunc='count')\n",
    "racepercent.fillna(0,inplace=True)\n",
    "racepercent['WhitePercent'] = racepercent['White/Caucasian'] / (racepercent['2+ Race'] + racepercent['Asian'] + racepercent['Black/African American'] + racepercent['Hispanic/Latino'] + racepercent['White/Caucasian']) *100\n",
    "racepercent['AllElsePercent'] = (racepercent['2+ Race'] + racepercent['Asian'] + racepercent['Black/African American'] + racepercent['Hispanic/Latino']) / (racepercent['2+ Race'] + racepercent['Asian'] + racepercent['Black/African American'] + racepercent['Hispanic/Latino'] + racepercent['White/Caucasian']) * 100\n",
    "racepercent.head()"
   ]
  },
  {
   "cell_type": "code",
   "execution_count": 37,
   "metadata": {},
   "outputs": [
    {
     "data": {
      "text/html": [
       "<div>\n",
       "<style scoped>\n",
       "    .dataframe tbody tr th:only-of-type {\n",
       "        vertical-align: middle;\n",
       "    }\n",
       "\n",
       "    .dataframe tbody tr th {\n",
       "        vertical-align: top;\n",
       "    }\n",
       "\n",
       "    .dataframe thead th {\n",
       "        text-align: right;\n",
       "    }\n",
       "</style>\n",
       "<table border=\"1\" class=\"dataframe\">\n",
       "  <thead>\n",
       "    <tr style=\"text-align: right;\">\n",
       "      <th></th>\n",
       "      <th>gender</th>\n",
       "      <th>female</th>\n",
       "      <th>male</th>\n",
       "      <th>malePercent</th>\n",
       "      <th>femalePercent</th>\n",
       "    </tr>\n",
       "    <tr>\n",
       "      <th>year</th>\n",
       "      <th>film_x</th>\n",
       "      <th></th>\n",
       "      <th></th>\n",
       "      <th></th>\n",
       "      <th></th>\n",
       "    </tr>\n",
       "  </thead>\n",
       "  <tbody>\n",
       "    <tr>\n",
       "      <td rowspan=\"5\" valign=\"top\">1989</td>\n",
       "      <td>born-on-the-fourth-of-july</td>\n",
       "      <td>106.0</td>\n",
       "      <td>1031.0</td>\n",
       "      <td>90.677221</td>\n",
       "      <td>9.322779</td>\n",
       "    </tr>\n",
       "    <tr>\n",
       "      <td>dead-poets-society</td>\n",
       "      <td>35.0</td>\n",
       "      <td>1119.0</td>\n",
       "      <td>96.967071</td>\n",
       "      <td>3.032929</td>\n",
       "    </tr>\n",
       "    <tr>\n",
       "      <td>driving-miss-daisy</td>\n",
       "      <td>728.0</td>\n",
       "      <td>1052.0</td>\n",
       "      <td>59.101124</td>\n",
       "      <td>40.898876</td>\n",
       "    </tr>\n",
       "    <tr>\n",
       "      <td>field-of-dreams</td>\n",
       "      <td>427.0</td>\n",
       "      <td>1351.0</td>\n",
       "      <td>75.984252</td>\n",
       "      <td>24.015748</td>\n",
       "    </tr>\n",
       "    <tr>\n",
       "      <td>my-left-foot</td>\n",
       "      <td>359.0</td>\n",
       "      <td>1053.0</td>\n",
       "      <td>74.575071</td>\n",
       "      <td>25.424929</td>\n",
       "    </tr>\n",
       "  </tbody>\n",
       "</table>\n",
       "</div>"
      ],
      "text/plain": [
       "gender                           female    male  malePercent  femalePercent\n",
       "year film_x                                                                \n",
       "1989 born-on-the-fourth-of-july   106.0  1031.0    90.677221       9.322779\n",
       "     dead-poets-society            35.0  1119.0    96.967071       3.032929\n",
       "     driving-miss-daisy           728.0  1052.0    59.101124      40.898876\n",
       "     field-of-dreams              427.0  1351.0    75.984252      24.015748\n",
       "     my-left-foot                 359.0  1053.0    74.575071      25.424929"
      ]
     },
     "execution_count": 37,
     "metadata": {},
     "output_type": "execute_result"
    }
   ],
   "source": [
    "# Calculate percentages in regards to the gender of the actors in the films\n",
    "\n",
    "genderpercentbyFilm = joined_data_two.pivot_table(index=['year','film_x'],columns=['gender'],values='words',aggfunc='count')\n",
    "genderpercentbyFilm.fillna(0,inplace=True)\n",
    "\n",
    "genderpercentbyFilm['malePercent'] = genderpercentbyFilm['male'] / (genderpercentbyFilm['male'] + genderpercentbyFilm['female'])*100\n",
    "genderpercentbyFilm['femalePercent'] = genderpercentbyFilm['female'] / (genderpercentbyFilm['male'] + genderpercentbyFilm['female'])*100\n",
    "genderpercentbyFilm.head()"
   ]
  },
  {
   "cell_type": "code",
   "execution_count": 38,
   "metadata": {},
   "outputs": [
    {
     "data": {
      "text/html": [
       "<div>\n",
       "<style scoped>\n",
       "    .dataframe tbody tr th:only-of-type {\n",
       "        vertical-align: middle;\n",
       "    }\n",
       "\n",
       "    .dataframe tbody tr th {\n",
       "        vertical-align: top;\n",
       "    }\n",
       "\n",
       "    .dataframe thead th {\n",
       "        text-align: right;\n",
       "    }\n",
       "</style>\n",
       "<table border=\"1\" class=\"dataframe\">\n",
       "  <thead>\n",
       "    <tr style=\"text-align: right;\">\n",
       "      <th>gender</th>\n",
       "      <th>female</th>\n",
       "      <th>male</th>\n",
       "      <th>malePercent</th>\n",
       "      <th>femalePercent</th>\n",
       "    </tr>\n",
       "    <tr>\n",
       "      <th>year</th>\n",
       "      <th></th>\n",
       "      <th></th>\n",
       "      <th></th>\n",
       "      <th></th>\n",
       "    </tr>\n",
       "  </thead>\n",
       "  <tbody>\n",
       "    <tr>\n",
       "      <td>1989</td>\n",
       "      <td>1655</td>\n",
       "      <td>6300</td>\n",
       "      <td>79.195475</td>\n",
       "      <td>20.804525</td>\n",
       "    </tr>\n",
       "    <tr>\n",
       "      <td>2015</td>\n",
       "      <td>5492</td>\n",
       "      <td>19662</td>\n",
       "      <td>78.166494</td>\n",
       "      <td>21.833506</td>\n",
       "    </tr>\n",
       "    <tr>\n",
       "      <td>2017</td>\n",
       "      <td>5875</td>\n",
       "      <td>22113</td>\n",
       "      <td>79.008861</td>\n",
       "      <td>20.991139</td>\n",
       "    </tr>\n",
       "  </tbody>\n",
       "</table>\n",
       "</div>"
      ],
      "text/plain": [
       "gender  female   male  malePercent  femalePercent\n",
       "year                                             \n",
       "1989      1655   6300    79.195475      20.804525\n",
       "2015      5492  19662    78.166494      21.833506\n",
       "2017      5875  22113    79.008861      20.991139"
      ]
     },
     "execution_count": 38,
     "metadata": {},
     "output_type": "execute_result"
    }
   ],
   "source": [
    "# Calculate percentages in regards to the gender of the actors by year\n",
    "genderpercentbyYear = joined_data_two.pivot_table(index=['year'],columns=['gender'],values='words',aggfunc='count')\n",
    "genderpercentbyYear.fillna(0,inplace=True)\n",
    "genderpercentbyYear['malePercent'] = genderpercentbyYear['male'] / (genderpercentbyYear['male'] + genderpercentbyYear['female'])*100\n",
    "genderpercentbyYear['femalePercent'] = genderpercentbyYear['female'] / (genderpercentbyYear['male'] + genderpercentbyYear['female'])*100\n",
    "genderpercentbyYear.head()"
   ]
  },
  {
   "cell_type": "code",
   "execution_count": 39,
   "metadata": {},
   "outputs": [],
   "source": [
    "# Import necessary libraries for models & visualization  \n",
    "\n",
    "import matplotlib.pyplot as plt\n",
    "import seaborn as sns\n",
    "import numpy as np\n",
    "from sklearn.model_selection import train_test_split"
   ]
  },
  {
   "cell_type": "code",
   "execution_count": 80,
   "metadata": {},
   "outputs": [
    {
     "data": {
      "text/html": [
       "<div>\n",
       "<style scoped>\n",
       "    .dataframe tbody tr th:only-of-type {\n",
       "        vertical-align: middle;\n",
       "    }\n",
       "\n",
       "    .dataframe tbody tr th {\n",
       "        vertical-align: top;\n",
       "    }\n",
       "\n",
       "    .dataframe thead th {\n",
       "        text-align: right;\n",
       "    }\n",
       "</style>\n",
       "<table border=\"1\" class=\"dataframe\">\n",
       "  <thead>\n",
       "    <tr style=\"text-align: right;\">\n",
       "      <th></th>\n",
       "      <th>year_x</th>\n",
       "      <th>film_x</th>\n",
       "      <th>actor</th>\n",
       "      <th>characters_x</th>\n",
       "      <th>imdb</th>\n",
       "      <th>race</th>\n",
       "      <th>race_simple</th>\n",
       "      <th>words</th>\n",
       "      <th>sentences</th>\n",
       "      <th>year_y</th>\n",
       "      <th>...</th>\n",
       "      <th>character</th>\n",
       "      <th>word</th>\n",
       "      <th>count</th>\n",
       "      <th>year</th>\n",
       "      <th>film</th>\n",
       "      <th>characters_y</th>\n",
       "      <th>Birthyear</th>\n",
       "      <th>AgeDuringFilm</th>\n",
       "      <th>x0_female</th>\n",
       "      <th>x0_male</th>\n",
       "    </tr>\n",
       "  </thead>\n",
       "  <tbody>\n",
       "    <tr>\n",
       "      <td>0</td>\n",
       "      <td>1989</td>\n",
       "      <td>born-on-the-fourth-of-july</td>\n",
       "      <td>Dale Dye</td>\n",
       "      <td>COLONEL</td>\n",
       "      <td>http://www.imdb.com/name/nm0245653/</td>\n",
       "      <td>White/Caucasian</td>\n",
       "      <td>White</td>\n",
       "      <td>216.0</td>\n",
       "      <td>15.0</td>\n",
       "      <td>1989</td>\n",
       "      <td>...</td>\n",
       "      <td>COLONEL</td>\n",
       "      <td>'bout</td>\n",
       "      <td>1</td>\n",
       "      <td>1989</td>\n",
       "      <td>born-on-the-fourth-of-july</td>\n",
       "      <td>COLONEL</td>\n",
       "      <td>1944</td>\n",
       "      <td>45</td>\n",
       "      <td>0.0</td>\n",
       "      <td>1.0</td>\n",
       "    </tr>\n",
       "    <tr>\n",
       "      <td>1</td>\n",
       "      <td>1989</td>\n",
       "      <td>born-on-the-fourth-of-july</td>\n",
       "      <td>Dale Dye</td>\n",
       "      <td>COLONEL</td>\n",
       "      <td>http://www.imdb.com/name/nm0245653/</td>\n",
       "      <td>White/Caucasian</td>\n",
       "      <td>White</td>\n",
       "      <td>216.0</td>\n",
       "      <td>15.0</td>\n",
       "      <td>1989</td>\n",
       "      <td>...</td>\n",
       "      <td>COLONEL</td>\n",
       "      <td>82nd</td>\n",
       "      <td>1</td>\n",
       "      <td>1989</td>\n",
       "      <td>born-on-the-fourth-of-july</td>\n",
       "      <td>COLONEL</td>\n",
       "      <td>1944</td>\n",
       "      <td>45</td>\n",
       "      <td>0.0</td>\n",
       "      <td>1.0</td>\n",
       "    </tr>\n",
       "    <tr>\n",
       "      <td>2</td>\n",
       "      <td>1989</td>\n",
       "      <td>born-on-the-fourth-of-july</td>\n",
       "      <td>Dale Dye</td>\n",
       "      <td>COLONEL</td>\n",
       "      <td>http://www.imdb.com/name/nm0245653/</td>\n",
       "      <td>White/Caucasian</td>\n",
       "      <td>White</td>\n",
       "      <td>216.0</td>\n",
       "      <td>15.0</td>\n",
       "      <td>1989</td>\n",
       "      <td>...</td>\n",
       "      <td>COLONEL</td>\n",
       "      <td>airborne</td>\n",
       "      <td>1</td>\n",
       "      <td>1989</td>\n",
       "      <td>born-on-the-fourth-of-july</td>\n",
       "      <td>COLONEL</td>\n",
       "      <td>1944</td>\n",
       "      <td>45</td>\n",
       "      <td>0.0</td>\n",
       "      <td>1.0</td>\n",
       "    </tr>\n",
       "    <tr>\n",
       "      <td>3</td>\n",
       "      <td>1989</td>\n",
       "      <td>born-on-the-fourth-of-july</td>\n",
       "      <td>Dale Dye</td>\n",
       "      <td>COLONEL</td>\n",
       "      <td>http://www.imdb.com/name/nm0245653/</td>\n",
       "      <td>White/Caucasian</td>\n",
       "      <td>White</td>\n",
       "      <td>216.0</td>\n",
       "      <td>15.0</td>\n",
       "      <td>1989</td>\n",
       "      <td>...</td>\n",
       "      <td>COLONEL</td>\n",
       "      <td>answer</td>\n",
       "      <td>1</td>\n",
       "      <td>1989</td>\n",
       "      <td>born-on-the-fourth-of-july</td>\n",
       "      <td>COLONEL</td>\n",
       "      <td>1944</td>\n",
       "      <td>45</td>\n",
       "      <td>0.0</td>\n",
       "      <td>1.0</td>\n",
       "    </tr>\n",
       "    <tr>\n",
       "      <td>4</td>\n",
       "      <td>1989</td>\n",
       "      <td>born-on-the-fourth-of-july</td>\n",
       "      <td>Dale Dye</td>\n",
       "      <td>COLONEL</td>\n",
       "      <td>http://www.imdb.com/name/nm0245653/</td>\n",
       "      <td>White/Caucasian</td>\n",
       "      <td>White</td>\n",
       "      <td>216.0</td>\n",
       "      <td>15.0</td>\n",
       "      <td>1989</td>\n",
       "      <td>...</td>\n",
       "      <td>COLONEL</td>\n",
       "      <td>arty</td>\n",
       "      <td>1</td>\n",
       "      <td>1989</td>\n",
       "      <td>born-on-the-fourth-of-july</td>\n",
       "      <td>COLONEL</td>\n",
       "      <td>1944</td>\n",
       "      <td>45</td>\n",
       "      <td>0.0</td>\n",
       "      <td>1.0</td>\n",
       "    </tr>\n",
       "  </tbody>\n",
       "</table>\n",
       "<p>5 rows × 21 columns</p>\n",
       "</div>"
      ],
      "text/plain": [
       "   year_x                      film_x     actor characters_x  \\\n",
       "0    1989  born-on-the-fourth-of-july  Dale Dye      COLONEL   \n",
       "1    1989  born-on-the-fourth-of-july  Dale Dye      COLONEL   \n",
       "2    1989  born-on-the-fourth-of-july  Dale Dye      COLONEL   \n",
       "3    1989  born-on-the-fourth-of-july  Dale Dye      COLONEL   \n",
       "4    1989  born-on-the-fourth-of-july  Dale Dye      COLONEL   \n",
       "\n",
       "                                  imdb             race race_simple  words  \\\n",
       "0  http://www.imdb.com/name/nm0245653/  White/Caucasian       White  216.0   \n",
       "1  http://www.imdb.com/name/nm0245653/  White/Caucasian       White  216.0   \n",
       "2  http://www.imdb.com/name/nm0245653/  White/Caucasian       White  216.0   \n",
       "3  http://www.imdb.com/name/nm0245653/  White/Caucasian       White  216.0   \n",
       "4  http://www.imdb.com/name/nm0245653/  White/Caucasian       White  216.0   \n",
       "\n",
       "   sentences  year_y  ... character      word count  year  \\\n",
       "0       15.0    1989  ...   COLONEL     'bout     1  1989   \n",
       "1       15.0    1989  ...   COLONEL      82nd     1  1989   \n",
       "2       15.0    1989  ...   COLONEL  airborne     1  1989   \n",
       "3       15.0    1989  ...   COLONEL    answer     1  1989   \n",
       "4       15.0    1989  ...   COLONEL      arty     1  1989   \n",
       "\n",
       "                         film characters_y Birthyear  AgeDuringFilm  \\\n",
       "0  born-on-the-fourth-of-july      COLONEL      1944             45   \n",
       "1  born-on-the-fourth-of-july      COLONEL      1944             45   \n",
       "2  born-on-the-fourth-of-july      COLONEL      1944             45   \n",
       "3  born-on-the-fourth-of-july      COLONEL      1944             45   \n",
       "4  born-on-the-fourth-of-july      COLONEL      1944             45   \n",
       "\n",
       "   x0_female  x0_male  \n",
       "0        0.0      1.0  \n",
       "1        0.0      1.0  \n",
       "2        0.0      1.0  \n",
       "3        0.0      1.0  \n",
       "4        0.0      1.0  \n",
       "\n",
       "[5 rows x 21 columns]"
      ]
     },
     "execution_count": 80,
     "metadata": {},
     "output_type": "execute_result"
    }
   ],
   "source": [
    "# Transform gender from categorical variable to number via one-hot encoding for modeling \n",
    "\n",
    "cat_cols_gender = joined_data_two[['gender']]\n",
    "from sklearn.preprocessing import OneHotEncoder\n",
    "encoder = OneHotEncoder(sparse=False)\n",
    "encoder.fit(cat_cols_gender)\n",
    "cat_cols_1hot=encoder.transform(cat_cols_gender)\n",
    "cat_cols_1hot_df = pd.DataFrame(cat_cols_1hot,columns=encoder.get_feature_names())\n",
    "datav2 = pd.concat([joined_data_two.drop(['gender'],axis=1),cat_cols_1hot_df],axis=1)\n",
    "datav2.head()"
   ]
  },
  {
   "cell_type": "code",
   "execution_count": 86,
   "metadata": {},
   "outputs": [
    {
     "data": {
      "text/plain": [
       "37431    2491.0\n",
       "49132     471.0\n",
       "35770    1137.0\n",
       "32038    1338.0\n",
       "3459     3343.0\n",
       "          ...  \n",
       "9947      178.0\n",
       "1467      801.0\n",
       "25875    1538.0\n",
       "57520    2783.0\n",
       "19643    3357.0\n",
       "Name: words, Length: 15275, dtype: float64"
      ]
     },
     "execution_count": 86,
     "metadata": {},
     "output_type": "execute_result"
    }
   ],
   "source": [
    "# Create a linear regression model to determine if the word count can be predicted by the gender, age, & year the film was produced  \n",
    "# Linear model trained and used (2 points)\n",
    "y = datav2['words']\n",
    "X = datav2[['AgeDuringFilm','x0_female','x0_male','year']]\n",
    "Xtrain,Xtest,ytrain,ytest=train_test_split(X,y,random_state=649)\n",
    "Xtest.fillna(Xtest.mean())\n",
    "Xtrain.fillna(Xtrain.mean())\n",
    "ytrain.fillna(ytrain.mean())\n",
    "ytest.fillna(ytest.mean())"
   ]
  },
  {
   "cell_type": "code",
   "execution_count": 48,
   "metadata": {},
   "outputs": [
    {
     "data": {
      "text/plain": [
       "30699    1163.0\n",
       "36898    1895.0\n",
       "30613    1163.0\n",
       "54822    1406.0\n",
       "24800     492.0\n",
       "Name: words, dtype: float64"
      ]
     },
     "execution_count": 48,
     "metadata": {},
     "output_type": "execute_result"
    }
   ],
   "source": [
    "ytrain.head()"
   ]
  },
  {
   "cell_type": "code",
   "execution_count": 49,
   "metadata": {},
   "outputs": [
    {
     "data": {
      "text/plain": [
       "37431    2491.0\n",
       "49132     471.0\n",
       "35770    1137.0\n",
       "32038    1338.0\n",
       "3459     3343.0\n",
       "Name: words, dtype: float64"
      ]
     },
     "execution_count": 49,
     "metadata": {},
     "output_type": "execute_result"
    }
   ],
   "source": [
    "ytest.head()"
   ]
  },
  {
   "cell_type": "code",
   "execution_count": 50,
   "metadata": {},
   "outputs": [
    {
     "data": {
      "text/html": [
       "<div>\n",
       "<style scoped>\n",
       "    .dataframe tbody tr th:only-of-type {\n",
       "        vertical-align: middle;\n",
       "    }\n",
       "\n",
       "    .dataframe tbody tr th {\n",
       "        vertical-align: top;\n",
       "    }\n",
       "\n",
       "    .dataframe thead th {\n",
       "        text-align: right;\n",
       "    }\n",
       "</style>\n",
       "<table border=\"1\" class=\"dataframe\">\n",
       "  <thead>\n",
       "    <tr style=\"text-align: right;\">\n",
       "      <th></th>\n",
       "      <th>AgeDuringFilm</th>\n",
       "      <th>x0_female</th>\n",
       "      <th>x0_male</th>\n",
       "      <th>year</th>\n",
       "    </tr>\n",
       "  </thead>\n",
       "  <tbody>\n",
       "    <tr>\n",
       "      <td>30699</td>\n",
       "      <td>48</td>\n",
       "      <td>0.0</td>\n",
       "      <td>1.0</td>\n",
       "      <td>2015</td>\n",
       "    </tr>\n",
       "    <tr>\n",
       "      <td>36898</td>\n",
       "      <td>35</td>\n",
       "      <td>0.0</td>\n",
       "      <td>1.0</td>\n",
       "      <td>2015</td>\n",
       "    </tr>\n",
       "    <tr>\n",
       "      <td>30613</td>\n",
       "      <td>48</td>\n",
       "      <td>0.0</td>\n",
       "      <td>1.0</td>\n",
       "      <td>2015</td>\n",
       "    </tr>\n",
       "    <tr>\n",
       "      <td>54822</td>\n",
       "      <td>62</td>\n",
       "      <td>1.0</td>\n",
       "      <td>0.0</td>\n",
       "      <td>2017</td>\n",
       "    </tr>\n",
       "    <tr>\n",
       "      <td>24800</td>\n",
       "      <td>38</td>\n",
       "      <td>0.0</td>\n",
       "      <td>1.0</td>\n",
       "      <td>2015</td>\n",
       "    </tr>\n",
       "  </tbody>\n",
       "</table>\n",
       "</div>"
      ],
      "text/plain": [
       "       AgeDuringFilm  x0_female  x0_male  year\n",
       "30699             48        0.0      1.0  2015\n",
       "36898             35        0.0      1.0  2015\n",
       "30613             48        0.0      1.0  2015\n",
       "54822             62        1.0      0.0  2017\n",
       "24800             38        0.0      1.0  2015"
      ]
     },
     "execution_count": 50,
     "metadata": {},
     "output_type": "execute_result"
    }
   ],
   "source": [
    "Xtrain.head()"
   ]
  },
  {
   "cell_type": "code",
   "execution_count": 51,
   "metadata": {},
   "outputs": [
    {
     "data": {
      "text/html": [
       "<div>\n",
       "<style scoped>\n",
       "    .dataframe tbody tr th:only-of-type {\n",
       "        vertical-align: middle;\n",
       "    }\n",
       "\n",
       "    .dataframe tbody tr th {\n",
       "        vertical-align: top;\n",
       "    }\n",
       "\n",
       "    .dataframe thead th {\n",
       "        text-align: right;\n",
       "    }\n",
       "</style>\n",
       "<table border=\"1\" class=\"dataframe\">\n",
       "  <thead>\n",
       "    <tr style=\"text-align: right;\">\n",
       "      <th></th>\n",
       "      <th>AgeDuringFilm</th>\n",
       "      <th>x0_female</th>\n",
       "      <th>x0_male</th>\n",
       "      <th>year</th>\n",
       "    </tr>\n",
       "  </thead>\n",
       "  <tbody>\n",
       "    <tr>\n",
       "      <td>37431</td>\n",
       "      <td>53</td>\n",
       "      <td>0.0</td>\n",
       "      <td>1.0</td>\n",
       "      <td>2015</td>\n",
       "    </tr>\n",
       "    <tr>\n",
       "      <td>49132</td>\n",
       "      <td>22</td>\n",
       "      <td>0.0</td>\n",
       "      <td>1.0</td>\n",
       "      <td>2017</td>\n",
       "    </tr>\n",
       "    <tr>\n",
       "      <td>35770</td>\n",
       "      <td>32</td>\n",
       "      <td>0.0</td>\n",
       "      <td>1.0</td>\n",
       "      <td>2015</td>\n",
       "    </tr>\n",
       "    <tr>\n",
       "      <td>32038</td>\n",
       "      <td>37</td>\n",
       "      <td>1.0</td>\n",
       "      <td>0.0</td>\n",
       "      <td>2015</td>\n",
       "    </tr>\n",
       "    <tr>\n",
       "      <td>3459</td>\n",
       "      <td>52</td>\n",
       "      <td>0.0</td>\n",
       "      <td>1.0</td>\n",
       "      <td>1989</td>\n",
       "    </tr>\n",
       "  </tbody>\n",
       "</table>\n",
       "</div>"
      ],
      "text/plain": [
       "       AgeDuringFilm  x0_female  x0_male  year\n",
       "37431             53        0.0      1.0  2015\n",
       "49132             22        0.0      1.0  2017\n",
       "35770             32        0.0      1.0  2015\n",
       "32038             37        1.0      0.0  2015\n",
       "3459              52        0.0      1.0  1989"
      ]
     },
     "execution_count": 51,
     "metadata": {},
     "output_type": "execute_result"
    }
   ],
   "source": [
    "Xtest.head()"
   ]
  },
  {
   "cell_type": "code",
   "execution_count": 52,
   "metadata": {},
   "outputs": [
    {
     "data": {
      "text/plain": [
       "(45822, 4)"
      ]
     },
     "execution_count": 52,
     "metadata": {},
     "output_type": "execute_result"
    }
   ],
   "source": [
    "Xtrain.shape"
   ]
  },
  {
   "cell_type": "code",
   "execution_count": 53,
   "metadata": {},
   "outputs": [
    {
     "data": {
      "text/plain": [
       "(15275, 4)"
      ]
     },
     "execution_count": 53,
     "metadata": {},
     "output_type": "execute_result"
    }
   ],
   "source": [
    "Xtest.shape"
   ]
  },
  {
   "cell_type": "code",
   "execution_count": 54,
   "metadata": {},
   "outputs": [
    {
     "data": {
      "text/plain": [
       "(45822,)"
      ]
     },
     "execution_count": 54,
     "metadata": {},
     "output_type": "execute_result"
    }
   ],
   "source": [
    "ytrain.shape"
   ]
  },
  {
   "cell_type": "code",
   "execution_count": 55,
   "metadata": {},
   "outputs": [
    {
     "data": {
      "text/plain": [
       "(15275,)"
      ]
     },
     "execution_count": 55,
     "metadata": {},
     "output_type": "execute_result"
    }
   ],
   "source": [
    "ytest.shape"
   ]
  },
  {
   "cell_type": "code",
   "execution_count": 56,
   "metadata": {},
   "outputs": [],
   "source": [
    "from sklearn.linear_model import LinearRegression"
   ]
  },
  {
   "cell_type": "code",
   "execution_count": 57,
   "metadata": {},
   "outputs": [
    {
     "data": {
      "text/plain": [
       "LinearRegression(copy_X=True, fit_intercept=True, n_jobs=None, normalize=False)"
      ]
     },
     "execution_count": 57,
     "metadata": {},
     "output_type": "execute_result"
    }
   ],
   "source": [
    "model_gender = LinearRegression(fit_intercept=True)\n",
    "model_gender"
   ]
  },
  {
   "cell_type": "code",
   "execution_count": 58,
   "metadata": {},
   "outputs": [
    {
     "data": {
      "text/plain": [
       "LinearRegression(copy_X=True, fit_intercept=True, n_jobs=None, normalize=False)"
      ]
     },
     "execution_count": 58,
     "metadata": {},
     "output_type": "execute_result"
    }
   ],
   "source": [
    "model_gender.fit(Xtrain,ytrain)\n",
    "model_gender"
   ]
  },
  {
   "cell_type": "code",
   "execution_count": 59,
   "metadata": {},
   "outputs": [
    {
     "data": {
      "text/plain": [
       "0.03856180408646237"
      ]
     },
     "execution_count": 59,
     "metadata": {},
     "output_type": "execute_result"
    }
   ],
   "source": [
    "# This model indicates that using age, gender and year of film is not enough to predict word count in a film\n",
    "model_gender.score(Xtest,ytest)"
   ]
  },
  {
   "cell_type": "code",
   "execution_count": 60,
   "metadata": {},
   "outputs": [],
   "source": [
    "females = datav2.loc[datav2['x0_female'] == 1]\n",
    "males = datav2.loc[datav2['x0_female'] == 0]"
   ]
  },
  {
   "cell_type": "code",
   "execution_count": null,
   "metadata": {},
   "outputs": [],
   "source": []
  },
  {
   "cell_type": "code",
   "execution_count": 61,
   "metadata": {},
   "outputs": [],
   "source": [
    "# Visualize the data to determine if the Oscar winning filmns have become more diverse. "
   ]
  },
  {
   "cell_type": "code",
   "execution_count": 62,
   "metadata": {},
   "outputs": [
    {
     "data": {
      "text/plain": [
       "'three-billboards-outside-ebbing-missouri'"
      ]
     },
     "execution_count": 62,
     "metadata": {},
     "output_type": "execute_result"
    }
   ],
   "source": [
    "females['film_x'].max()"
   ]
  },
  {
   "cell_type": "code",
   "execution_count": 63,
   "metadata": {},
   "outputs": [
    {
     "data": {
      "text/html": [
       "<div>\n",
       "<style scoped>\n",
       "    .dataframe tbody tr th:only-of-type {\n",
       "        vertical-align: middle;\n",
       "    }\n",
       "\n",
       "    .dataframe tbody tr th {\n",
       "        vertical-align: top;\n",
       "    }\n",
       "\n",
       "    .dataframe thead th {\n",
       "        text-align: right;\n",
       "    }\n",
       "</style>\n",
       "<table border=\"1\" class=\"dataframe\">\n",
       "  <thead>\n",
       "    <tr style=\"text-align: right;\">\n",
       "      <th></th>\n",
       "      <th>gender</th>\n",
       "      <th>female</th>\n",
       "      <th>male</th>\n",
       "      <th>malePercent</th>\n",
       "      <th>femalePercent</th>\n",
       "    </tr>\n",
       "    <tr>\n",
       "      <th>year</th>\n",
       "      <th>film_x</th>\n",
       "      <th></th>\n",
       "      <th></th>\n",
       "      <th></th>\n",
       "      <th></th>\n",
       "    </tr>\n",
       "  </thead>\n",
       "  <tbody>\n",
       "    <tr>\n",
       "      <td rowspan=\"5\" valign=\"top\">1989</td>\n",
       "      <td>born-on-the-fourth-of-july</td>\n",
       "      <td>106.0</td>\n",
       "      <td>1031.0</td>\n",
       "      <td>90.677221</td>\n",
       "      <td>9.322779</td>\n",
       "    </tr>\n",
       "    <tr>\n",
       "      <td>dead-poets-society</td>\n",
       "      <td>35.0</td>\n",
       "      <td>1119.0</td>\n",
       "      <td>96.967071</td>\n",
       "      <td>3.032929</td>\n",
       "    </tr>\n",
       "    <tr>\n",
       "      <td>driving-miss-daisy</td>\n",
       "      <td>728.0</td>\n",
       "      <td>1052.0</td>\n",
       "      <td>59.101124</td>\n",
       "      <td>40.898876</td>\n",
       "    </tr>\n",
       "    <tr>\n",
       "      <td>field-of-dreams</td>\n",
       "      <td>427.0</td>\n",
       "      <td>1351.0</td>\n",
       "      <td>75.984252</td>\n",
       "      <td>24.015748</td>\n",
       "    </tr>\n",
       "    <tr>\n",
       "      <td>my-left-foot</td>\n",
       "      <td>359.0</td>\n",
       "      <td>1053.0</td>\n",
       "      <td>74.575071</td>\n",
       "      <td>25.424929</td>\n",
       "    </tr>\n",
       "  </tbody>\n",
       "</table>\n",
       "</div>"
      ],
      "text/plain": [
       "gender                           female    male  malePercent  femalePercent\n",
       "year film_x                                                                \n",
       "1989 born-on-the-fourth-of-july   106.0  1031.0    90.677221       9.322779\n",
       "     dead-poets-society            35.0  1119.0    96.967071       3.032929\n",
       "     driving-miss-daisy           728.0  1052.0    59.101124      40.898876\n",
       "     field-of-dreams              427.0  1351.0    75.984252      24.015748\n",
       "     my-left-foot                 359.0  1053.0    74.575071      25.424929"
      ]
     },
     "execution_count": 63,
     "metadata": {},
     "output_type": "execute_result"
    }
   ],
   "source": [
    "genderpercent.head()"
   ]
  },
  {
   "cell_type": "code",
   "execution_count": 64,
   "metadata": {},
   "outputs": [
    {
     "data": {
      "text/plain": [
       "{'whiskers': [<matplotlib.lines.Line2D at 0x1ff844bbb48>,\n",
       "  <matplotlib.lines.Line2D at 0x1ff844bbf88>],\n",
       " 'caps': [<matplotlib.lines.Line2D at 0x1ff844bbcc8>,\n",
       "  <matplotlib.lines.Line2D at 0x1ff844c8d48>],\n",
       " 'boxes': [<matplotlib.lines.Line2D at 0x1ff844bb248>],\n",
       " 'medians': [<matplotlib.lines.Line2D at 0x1ff844c8e48>],\n",
       " 'fliers': [<matplotlib.lines.Line2D at 0x1ff844c8f08>],\n",
       " 'means': []}"
      ]
     },
     "execution_count": 64,
     "metadata": {},
     "output_type": "execute_result"
    },
    {
     "data": {
      "image/png": "[encoded data removed]",
      "text/plain": [
       "<Figure size 432x288 with 1 Axes>"
      ]
     },
     "metadata": {
      "needs_background": "light"
     },
     "output_type": "display_data"
    }
   ],
   "source": [
    "plt.boxplot('words',data=females)\n",
    "# plot (1 point)"
   ]
  },
  {
   "cell_type": "code",
   "execution_count": null,
   "metadata": {},
   "outputs": [],
   "source": []
  },
  {
   "cell_type": "code",
   "execution_count": 65,
   "metadata": {},
   "outputs": [
    {
     "data": {
      "text/plain": [
       "{'whiskers': [<matplotlib.lines.Line2D at 0x1ff8652f508>,\n",
       "  <matplotlib.lines.Line2D at 0x1ff86526f48>],\n",
       " 'caps': [<matplotlib.lines.Line2D at 0x1ff8652ffc8>,\n",
       "  <matplotlib.lines.Line2D at 0x1ff8652fe08>],\n",
       " 'boxes': [<matplotlib.lines.Line2D at 0x1ff86526d48>],\n",
       " 'medians': [<matplotlib.lines.Line2D at 0x1ff86535b08>],\n",
       " 'fliers': [<matplotlib.lines.Line2D at 0x1ff86535f08>],\n",
       " 'means': []}"
      ]
     },
     "execution_count": 65,
     "metadata": {},
     "output_type": "execute_result"
    },
    {
     "data": {
      "image/png": "[encoded data removed]",
      "text/plain": [
       "<Figure size 432x288 with 1 Axes>"
      ]
     },
     "metadata": {
      "needs_background": "light"
     },
     "output_type": "display_data"
    }
   ],
   "source": [
    "plt.boxplot('words',data=males)\n",
    "# plot (1 point)"
   ]
  },
  {
   "cell_type": "code",
   "execution_count": 66,
   "metadata": {},
   "outputs": [
    {
     "data": {
      "text/plain": [
       "<seaborn.axisgrid.PairGrid at 0x1ff8451a188>"
      ]
     },
     "execution_count": 66,
     "metadata": {},
     "output_type": "execute_result"
    },
    {
     "data": {
      "image/png": "[encoded data removed]",
      "text/plain": [
       "<Figure size 540x540 with 12 Axes>"
      ]
     },
     "metadata": {
      "needs_background": "light"
     },
     "output_type": "display_data"
    }
   ],
   "source": [
    "sns.pairplot(datav2, vars=['words','race','AgeDuringFilm'])\n",
    "# plot 1 point "
   ]
  },
  {
   "cell_type": "code",
   "execution_count": 67,
   "metadata": {},
   "outputs": [
    {
     "data": {
      "text/html": [
       "<div>\n",
       "<style scoped>\n",
       "    .dataframe tbody tr th:only-of-type {\n",
       "        vertical-align: middle;\n",
       "    }\n",
       "\n",
       "    .dataframe tbody tr th {\n",
       "        vertical-align: top;\n",
       "    }\n",
       "\n",
       "    .dataframe thead th {\n",
       "        text-align: right;\n",
       "    }\n",
       "</style>\n",
       "<table border=\"1\" class=\"dataframe\">\n",
       "  <thead>\n",
       "    <tr style=\"text-align: right;\">\n",
       "      <th>gender</th>\n",
       "      <th>female</th>\n",
       "      <th>male</th>\n",
       "    </tr>\n",
       "    <tr>\n",
       "      <th>year</th>\n",
       "      <th></th>\n",
       "      <th></th>\n",
       "    </tr>\n",
       "  </thead>\n",
       "  <tbody>\n",
       "    <tr>\n",
       "      <td>1989</td>\n",
       "      <td>1655</td>\n",
       "      <td>6300</td>\n",
       "    </tr>\n",
       "    <tr>\n",
       "      <td>2015</td>\n",
       "      <td>5492</td>\n",
       "      <td>19662</td>\n",
       "    </tr>\n",
       "    <tr>\n",
       "      <td>2017</td>\n",
       "      <td>5875</td>\n",
       "      <td>22113</td>\n",
       "    </tr>\n",
       "  </tbody>\n",
       "</table>\n",
       "</div>"
      ],
      "text/plain": [
       "gender  female   male\n",
       "year                 \n",
       "1989      1655   6300\n",
       "2015      5492  19662\n",
       "2017      5875  22113"
      ]
     },
     "execution_count": 67,
     "metadata": {},
     "output_type": "execute_result"
    }
   ],
   "source": [
    "graph1 = joined_data_two.pivot_table(index='year',columns=['gender'],values='words',aggfunc='count')\n",
    "graph1"
   ]
  },
  {
   "cell_type": "code",
   "execution_count": 68,
   "metadata": {},
   "outputs": [
    {
     "data": {
      "text/plain": [
       "Text(0.5, 1.0, 'Total Words Spoken by Men vs. Women in Best Picture Films')"
      ]
     },
     "execution_count": 68,
     "metadata": {},
     "output_type": "execute_result"
    },
    {
     "data": {
      "image/png": "[encoded data removed]",
      "text/plain": [
       "<Figure size 432x288 with 1 Axes>"
      ]
     },
     "metadata": {
      "needs_background": "light"
     },
     "output_type": "display_data"
    }
   ],
   "source": [
    "plt.plot(graph1)\n",
    "plt.ylabel('Total Word Count')\n",
    "plt.xlabel('Year Best Picture Oscar Won')\n",
    "plt.title('Total Words Spoken by Men vs. Women in Best Picture Films')\n",
    "# plot (1 point)"
   ]
  },
  {
   "cell_type": "code",
   "execution_count": 69,
   "metadata": {},
   "outputs": [
    {
     "data": {
      "text/plain": [
       "Text(0.5, 1.0, 'Total Words Spoken by Women in Best Picture Films')"
      ]
     },
     "execution_count": 69,
     "metadata": {},
     "output_type": "execute_result"
    },
    {
     "data": {
      "image/png": "[encoded data removed]",
      "text/plain": [
       "<Figure size 432x288 with 1 Axes>"
      ]
     },
     "metadata": {
      "needs_background": "light"
     },
     "output_type": "display_data"
    }
   ],
   "source": [
    "graph2 = females.pivot_table(index='year',columns=['race'],values='words',aggfunc='count')\n",
    "graph2.plot()\n",
    "plt.ylabel('Total Word Count')\n",
    "plt.xlabel('Year Best Picture Oscar Won')\n",
    "plt.title('Total Words Spoken by Women in Best Picture Films')\n",
    "# plot (1 point)"
   ]
  },
  {
   "cell_type": "code",
   "execution_count": 70,
   "metadata": {},
   "outputs": [
    {
     "data": {
      "text/plain": [
       "Text(0.5, 1.0, 'Total Words Spoken by Men in Best Picture Films')"
      ]
     },
     "execution_count": 70,
     "metadata": {},
     "output_type": "execute_result"
    },
    {
     "data": {
      "image/png": "[encoded data removed]",
      "text/plain": [
       "<Figure size 432x288 with 1 Axes>"
      ]
     },
     "metadata": {
      "needs_background": "light"
     },
     "output_type": "display_data"
    }
   ],
   "source": [
    "graph2 = males.pivot_table(index='year',columns=['race'],values='words',aggfunc='count')\n",
    "graph2.plot()\n",
    "plt.ylabel('Total Word Count')\n",
    "plt.xlabel('Year Best Picture Oscar Won')\n",
    "plt.title('Total Words Spoken by Men in Best Picture Films')\n",
    "# plot (1 point)"
   ]
  },
  {
   "cell_type": "code",
   "execution_count": 71,
   "metadata": {},
   "outputs": [
    {
     "data": {
      "text/html": [
       "<div>\n",
       "<style scoped>\n",
       "    .dataframe tbody tr th:only-of-type {\n",
       "        vertical-align: middle;\n",
       "    }\n",
       "\n",
       "    .dataframe tbody tr th {\n",
       "        vertical-align: top;\n",
       "    }\n",
       "\n",
       "    .dataframe thead th {\n",
       "        text-align: right;\n",
       "    }\n",
       "</style>\n",
       "<table border=\"1\" class=\"dataframe\">\n",
       "  <thead>\n",
       "    <tr style=\"text-align: right;\">\n",
       "      <th>gender</th>\n",
       "      <th>female</th>\n",
       "      <th>male</th>\n",
       "      <th>malePercent</th>\n",
       "      <th>femalePercent</th>\n",
       "    </tr>\n",
       "    <tr>\n",
       "      <th>year</th>\n",
       "      <th></th>\n",
       "      <th></th>\n",
       "      <th></th>\n",
       "      <th></th>\n",
       "    </tr>\n",
       "  </thead>\n",
       "  <tbody>\n",
       "    <tr>\n",
       "      <td>1989</td>\n",
       "      <td>1655</td>\n",
       "      <td>6300</td>\n",
       "      <td>79.195475</td>\n",
       "      <td>20.804525</td>\n",
       "    </tr>\n",
       "    <tr>\n",
       "      <td>2015</td>\n",
       "      <td>5492</td>\n",
       "      <td>19662</td>\n",
       "      <td>78.166494</td>\n",
       "      <td>21.833506</td>\n",
       "    </tr>\n",
       "    <tr>\n",
       "      <td>2017</td>\n",
       "      <td>5875</td>\n",
       "      <td>22113</td>\n",
       "      <td>79.008861</td>\n",
       "      <td>20.991139</td>\n",
       "    </tr>\n",
       "  </tbody>\n",
       "</table>\n",
       "</div>"
      ],
      "text/plain": [
       "gender  female   male  malePercent  femalePercent\n",
       "year                                             \n",
       "1989      1655   6300    79.195475      20.804525\n",
       "2015      5492  19662    78.166494      21.833506\n",
       "2017      5875  22113    79.008861      20.991139"
      ]
     },
     "execution_count": 71,
     "metadata": {},
     "output_type": "execute_result"
    }
   ],
   "source": [
    "genderpercent2.head()"
   ]
  },
  {
   "cell_type": "code",
   "execution_count": 72,
   "metadata": {},
   "outputs": [
    {
     "data": {
      "text/html": [
       "<div>\n",
       "<style scoped>\n",
       "    .dataframe tbody tr th:only-of-type {\n",
       "        vertical-align: middle;\n",
       "    }\n",
       "\n",
       "    .dataframe tbody tr th {\n",
       "        vertical-align: top;\n",
       "    }\n",
       "\n",
       "    .dataframe thead th {\n",
       "        text-align: right;\n",
       "    }\n",
       "</style>\n",
       "<table border=\"1\" class=\"dataframe\">\n",
       "  <thead>\n",
       "    <tr style=\"text-align: right;\">\n",
       "      <th>race</th>\n",
       "      <th>2+ Race</th>\n",
       "      <th>Asian</th>\n",
       "      <th>Black/African American</th>\n",
       "      <th>Hispanic/Latino</th>\n",
       "      <th>White/Caucasian</th>\n",
       "      <th>WhitePercent</th>\n",
       "      <th>AllElsePercent</th>\n",
       "    </tr>\n",
       "    <tr>\n",
       "      <th>year</th>\n",
       "      <th></th>\n",
       "      <th></th>\n",
       "      <th></th>\n",
       "      <th></th>\n",
       "      <th></th>\n",
       "      <th></th>\n",
       "      <th></th>\n",
       "    </tr>\n",
       "  </thead>\n",
       "  <tbody>\n",
       "    <tr>\n",
       "      <td>1989</td>\n",
       "      <td>0.0</td>\n",
       "      <td>0.0</td>\n",
       "      <td>1037.0</td>\n",
       "      <td>0.0</td>\n",
       "      <td>6918.0</td>\n",
       "      <td>86.964173</td>\n",
       "      <td>13.035827</td>\n",
       "    </tr>\n",
       "    <tr>\n",
       "      <td>2015</td>\n",
       "      <td>248.0</td>\n",
       "      <td>194.0</td>\n",
       "      <td>466.0</td>\n",
       "      <td>186.0</td>\n",
       "      <td>24060.0</td>\n",
       "      <td>95.650791</td>\n",
       "      <td>4.349209</td>\n",
       "    </tr>\n",
       "    <tr>\n",
       "      <td>2017</td>\n",
       "      <td>206.0</td>\n",
       "      <td>0.0</td>\n",
       "      <td>1031.0</td>\n",
       "      <td>30.0</td>\n",
       "      <td>26721.0</td>\n",
       "      <td>95.473060</td>\n",
       "      <td>4.526940</td>\n",
       "    </tr>\n",
       "  </tbody>\n",
       "</table>\n",
       "</div>"
      ],
      "text/plain": [
       "race  2+ Race  Asian  Black/African American  Hispanic/Latino  \\\n",
       "year                                                            \n",
       "1989      0.0    0.0                  1037.0              0.0   \n",
       "2015    248.0  194.0                   466.0            186.0   \n",
       "2017    206.0    0.0                  1031.0             30.0   \n",
       "\n",
       "race  White/Caucasian  WhitePercent  AllElsePercent  \n",
       "year                                                 \n",
       "1989           6918.0     86.964173       13.035827  \n",
       "2015          24060.0     95.650791        4.349209  \n",
       "2017          26721.0     95.473060        4.526940  "
      ]
     },
     "execution_count": 72,
     "metadata": {},
     "output_type": "execute_result"
    }
   ],
   "source": [
    "racepercent.head()"
   ]
  },
  {
   "cell_type": "code",
   "execution_count": 73,
   "metadata": {},
   "outputs": [
    {
     "data": {
      "text/html": [
       "<div>\n",
       "<style scoped>\n",
       "    .dataframe tbody tr th:only-of-type {\n",
       "        vertical-align: middle;\n",
       "    }\n",
       "\n",
       "    .dataframe tbody tr th {\n",
       "        vertical-align: top;\n",
       "    }\n",
       "\n",
       "    .dataframe thead th {\n",
       "        text-align: right;\n",
       "    }\n",
       "</style>\n",
       "<table border=\"1\" class=\"dataframe\">\n",
       "  <thead>\n",
       "    <tr style=\"text-align: right;\">\n",
       "      <th>gender</th>\n",
       "      <th>malePercent</th>\n",
       "      <th>femalePercent</th>\n",
       "    </tr>\n",
       "    <tr>\n",
       "      <th>year</th>\n",
       "      <th></th>\n",
       "      <th></th>\n",
       "    </tr>\n",
       "  </thead>\n",
       "  <tbody>\n",
       "    <tr>\n",
       "      <td>1989</td>\n",
       "      <td>79.195475</td>\n",
       "      <td>20.804525</td>\n",
       "    </tr>\n",
       "    <tr>\n",
       "      <td>2015</td>\n",
       "      <td>78.166494</td>\n",
       "      <td>21.833506</td>\n",
       "    </tr>\n",
       "    <tr>\n",
       "      <td>2017</td>\n",
       "      <td>79.008861</td>\n",
       "      <td>20.991139</td>\n",
       "    </tr>\n",
       "  </tbody>\n",
       "</table>\n",
       "</div>"
      ],
      "text/plain": [
       "gender  malePercent  femalePercent\n",
       "year                              \n",
       "1989      79.195475      20.804525\n",
       "2015      78.166494      21.833506\n",
       "2017      79.008861      20.991139"
      ]
     },
     "execution_count": 73,
     "metadata": {},
     "output_type": "execute_result"
    }
   ],
   "source": [
    "genderpercent3 = genderpercent2.drop(columns=['female','male'])\n",
    "genderpercent3.head()"
   ]
  },
  {
   "cell_type": "code",
   "execution_count": 74,
   "metadata": {},
   "outputs": [
    {
     "data": {
      "text/html": [
       "<div>\n",
       "<style scoped>\n",
       "    .dataframe tbody tr th:only-of-type {\n",
       "        vertical-align: middle;\n",
       "    }\n",
       "\n",
       "    .dataframe tbody tr th {\n",
       "        vertical-align: top;\n",
       "    }\n",
       "\n",
       "    .dataframe thead th {\n",
       "        text-align: right;\n",
       "    }\n",
       "</style>\n",
       "<table border=\"1\" class=\"dataframe\">\n",
       "  <thead>\n",
       "    <tr style=\"text-align: right;\">\n",
       "      <th></th>\n",
       "      <th>malePercent</th>\n",
       "      <th>femalePercent</th>\n",
       "      <th>WhitePercent</th>\n",
       "      <th>AllElsePercent</th>\n",
       "    </tr>\n",
       "    <tr>\n",
       "      <th>year</th>\n",
       "      <th></th>\n",
       "      <th></th>\n",
       "      <th></th>\n",
       "      <th></th>\n",
       "    </tr>\n",
       "  </thead>\n",
       "  <tbody>\n",
       "    <tr>\n",
       "      <td>1989</td>\n",
       "      <td>79.195475</td>\n",
       "      <td>20.804525</td>\n",
       "      <td>86.964173</td>\n",
       "      <td>13.035827</td>\n",
       "    </tr>\n",
       "    <tr>\n",
       "      <td>2015</td>\n",
       "      <td>78.166494</td>\n",
       "      <td>21.833506</td>\n",
       "      <td>95.650791</td>\n",
       "      <td>4.349209</td>\n",
       "    </tr>\n",
       "    <tr>\n",
       "      <td>2017</td>\n",
       "      <td>79.008861</td>\n",
       "      <td>20.991139</td>\n",
       "      <td>95.473060</td>\n",
       "      <td>4.526940</td>\n",
       "    </tr>\n",
       "  </tbody>\n",
       "</table>\n",
       "</div>"
      ],
      "text/plain": [
       "      malePercent  femalePercent  WhitePercent  AllElsePercent\n",
       "year                                                          \n",
       "1989    79.195475      20.804525     86.964173       13.035827\n",
       "2015    78.166494      21.833506     95.650791        4.349209\n",
       "2017    79.008861      20.991139     95.473060        4.526940"
      ]
     },
     "execution_count": 74,
     "metadata": {},
     "output_type": "execute_result"
    }
   ],
   "source": [
    "allpercent = pd.merge(genderpercent3,racepercent,on='year')\n",
    "newallpercent = allpercent.drop(columns=['2+ Race','Asian','Black/African American','Hispanic/Latino','White/Caucasian'])\n",
    "newallpercent"
   ]
  },
  {
   "cell_type": "code",
   "execution_count": 75,
   "metadata": {},
   "outputs": [
    {
     "data": {
      "text/plain": [
       "Text(0.5, 1.0, 'Percent of Words Spoken Best Picture Films')"
      ]
     },
     "execution_count": 75,
     "metadata": {},
     "output_type": "execute_result"
    },
    {
     "data": {
      "image/png": "[encoded data removed]",
      "text/plain": [
       "<Figure size 432x288 with 1 Axes>"
      ]
     },
     "metadata": {
      "needs_background": "light"
     },
     "output_type": "display_data"
    }
   ],
   "source": [
    "newallpercent.plot.bar()\n",
    "plt.ylabel('Percent of Word Count')\n",
    "plt.xlabel('Year Best Picture Oscar Won')\n",
    "plt.title('Percent of Words Spoken Best Picture Films')\n",
    "# plot (1 point)"
   ]
  },
  {
   "cell_type": "code",
   "execution_count": 76,
   "metadata": {},
   "outputs": [
    {
     "data": {
      "text/plain": [
       "Text(0.5, 1.0, 'Percent of Words Spoken Best Picture Films')"
      ]
     },
     "execution_count": 76,
     "metadata": {},
     "output_type": "execute_result"
    },
    {
     "data": {
      "image/png": "[encoded data removed]",
      "text/plain": [
       "<Figure size 432x288 with 1 Axes>"
      ]
     },
     "metadata": {
      "needs_background": "light"
     },
     "output_type": "display_data"
    }
   ],
   "source": [
    "newallpercent.plot()\n",
    "plt.ylabel('Percent of Word Count')\n",
    "plt.xlabel('Year Best Picture Oscar Won')\n",
    "plt.title('Percent of Words Spoken Best Picture Films')\n",
    "# plot (1 point)"
   ]
  },
  {
   "cell_type": "code",
   "execution_count": null,
   "metadata": {},
   "outputs": [],
   "source": []
  },
  {
   "cell_type": "code",
   "execution_count": null,
   "metadata": {},
   "outputs": [],
   "source": []
  }
 ],
 "metadata": {
  "kernelspec": {
   "display_name": "Python 3",
   "language": "python",
   "name": "python3"
  },
  "language_info": {
   "codemirror_mode": {
    "name": "ipython",
    "version": 3
   },
   "file_extension": ".py",
   "mimetype": "text/x-python",
   "name": "python",
   "nbconvert_exporter": "python",
   "pygments_lexer": "ipython3",
   "version": "3.7.4"
  }
 },
 "nbformat": 4,
 "nbformat_minor": 4
}
